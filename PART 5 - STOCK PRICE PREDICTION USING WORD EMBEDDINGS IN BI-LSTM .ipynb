{
 "cells": [
  {
   "cell_type": "markdown",
   "metadata": {},
   "source": [
    "## PART 5 - STOCK PRICE PREDICTION USING WORD EMBEDDINGS \n",
    "\n",
    "The below model consists of the following steps:\n",
    "\n",
    "- Step 1 - Data Collection \n",
    "- Step 2 - Formatting 'Date' from news headlines to match with 'Date' from numerical stock data\n",
    "- Step 3 - Merging the two datasets on unique dates from stock data\n",
    "- Step 4 - Cleaning the text to remove unwanted characters, contradictions, stopwords etc\n",
    "- Step 5 - Creating a Dictionary for each unique word and it's counts \n",
    "- Step 6 - Creating a Dictionary for each word in Glove embedding and it's embedding representation\n",
    "- Step 7 - Creating a Dictionary to convert words to integers\n",
    "- Step 8 - Creating a reverse mapping Dictionary to convert integer representations to their words \n",
    "- Step 9 - Creating a word embedding matrix for each unique word in the dataset and its embedding representation \n",
    "- Step 10 - Create integer representation of all the news headlines \n",
    "- Step 11 - Normalize the data\n",
    "- Step 12 - Train multi-modal Bi directinal LSTM engine  \n",
    "- Step 13 - Test and Evaluate multi-modal Bi directional LSTM engine \n",
    "\n",
    "### Results -  The predictive model was applied on news and numerical data of the following stocks and analyzed\n",
    "\n",
    "    1. Apple\n",
    "\n"
   ]
  },
  {
   "cell_type": "code",
   "execution_count": 2,
   "metadata": {},
   "outputs": [
    {
     "name": "stderr",
     "output_type": "stream",
     "text": [
      "/Users/aishwaryagunashekar/anaconda3/lib/python3.5/importlib/_bootstrap.py:222: RuntimeWarning: compiletime version 3.6 of module 'tensorflow.python.framework.fast_tensor_util' does not match runtime version 3.5\n",
      "  return f(*args, **kwds)\n"
     ]
    }
   ],
   "source": [
    "import pandas as pd\n",
    "import numpy as np\n",
    "import tensorflow as tf\n",
    "import re\n",
    "from nltk.corpus import stopwords\n",
    "from sklearn.model_selection import train_test_split\n",
    "from sklearn.metrics import median_absolute_error as mae\n",
    "from sklearn.metrics import mean_squared_error as mse\n",
    "from sklearn.metrics import accuracy_score as acc\n",
    "import matplotlib.pyplot as plt\n",
    "from datetime import datetime, date"
   ]
  },
  {
   "cell_type": "code",
   "execution_count": 3,
   "metadata": {},
   "outputs": [
    {
     "data": {
      "text/html": [
       "<div>\n",
       "<style scoped>\n",
       "    .dataframe tbody tr th:only-of-type {\n",
       "        vertical-align: middle;\n",
       "    }\n",
       "\n",
       "    .dataframe tbody tr th {\n",
       "        vertical-align: top;\n",
       "    }\n",
       "\n",
       "    .dataframe thead th {\n",
       "        text-align: right;\n",
       "    }\n",
       "</style>\n",
       "<table border=\"1\" class=\"dataframe\">\n",
       "  <thead>\n",
       "    <tr style=\"text-align: right;\">\n",
       "      <th></th>\n",
       "      <th>Date</th>\n",
       "      <th>Close</th>\n",
       "      <th>Volume</th>\n",
       "      <th>MA7</th>\n",
       "      <th>MA21</th>\n",
       "      <th>MA42</th>\n",
       "      <th>MACD</th>\n",
       "      <th>EMA</th>\n",
       "    </tr>\n",
       "  </thead>\n",
       "  <tbody>\n",
       "    <tr>\n",
       "      <th>0</th>\n",
       "      <td>2013-01-02</td>\n",
       "      <td>78.432854</td>\n",
       "      <td>140129500</td>\n",
       "      <td>74.660203</td>\n",
       "      <td>76.123333</td>\n",
       "      <td>78.372075</td>\n",
       "      <td>0.000000</td>\n",
       "      <td>78.432854</td>\n",
       "    </tr>\n",
       "    <tr>\n",
       "      <th>1</th>\n",
       "      <td>2013-01-03</td>\n",
       "      <td>77.442856</td>\n",
       "      <td>88241300</td>\n",
       "      <td>75.124897</td>\n",
       "      <td>75.823401</td>\n",
       "      <td>78.186905</td>\n",
       "      <td>-0.022211</td>\n",
       "      <td>77.690356</td>\n",
       "    </tr>\n",
       "    <tr>\n",
       "      <th>2</th>\n",
       "      <td>2013-01-04</td>\n",
       "      <td>75.285713</td>\n",
       "      <td>148583400</td>\n",
       "      <td>75.264284</td>\n",
       "      <td>75.491088</td>\n",
       "      <td>78.017517</td>\n",
       "      <td>-0.095195</td>\n",
       "      <td>76.025603</td>\n",
       "    </tr>\n",
       "    <tr>\n",
       "      <th>3</th>\n",
       "      <td>2013-01-07</td>\n",
       "      <td>74.842857</td>\n",
       "      <td>121039100</td>\n",
       "      <td>75.486734</td>\n",
       "      <td>75.389795</td>\n",
       "      <td>77.810986</td>\n",
       "      <td>-0.142045</td>\n",
       "      <td>75.227249</td>\n",
       "    </tr>\n",
       "    <tr>\n",
       "      <th>4</th>\n",
       "      <td>2013-01-08</td>\n",
       "      <td>75.044289</td>\n",
       "      <td>114676800</td>\n",
       "      <td>75.695917</td>\n",
       "      <td>75.240612</td>\n",
       "      <td>77.615272</td>\n",
       "      <td>-0.156497</td>\n",
       "      <td>75.104772</td>\n",
       "    </tr>\n",
       "  </tbody>\n",
       "</table>\n",
       "</div>"
      ],
      "text/plain": [
       "         Date      Close     Volume        MA7       MA21       MA42  \\\n",
       "0  2013-01-02  78.432854  140129500  74.660203  76.123333  78.372075   \n",
       "1  2013-01-03  77.442856   88241300  75.124897  75.823401  78.186905   \n",
       "2  2013-01-04  75.285713  148583400  75.264284  75.491088  78.017517   \n",
       "3  2013-01-07  74.842857  121039100  75.486734  75.389795  77.810986   \n",
       "4  2013-01-08  75.044289  114676800  75.695917  75.240612  77.615272   \n",
       "\n",
       "       MACD        EMA  \n",
       "0  0.000000  78.432854  \n",
       "1 -0.022211  77.690356  \n",
       "2 -0.095195  76.025603  \n",
       "3 -0.142045  75.227249  \n",
       "4 -0.156497  75.104772  "
      ]
     },
     "execution_count": 3,
     "metadata": {},
     "output_type": "execute_result"
    }
   ],
   "source": [
    "stock_data = pd.read_csv(\"/Users/aishwaryagunashekar/Desktop/Stock_Market_Project/Data/AAPL_indicators.csv\")\n",
    "news_headlines = pd.read_csv(\"/Users/aishwaryagunashekar/Desktop/Stock_Market_Project/Data/scraped_news_apple.csv\")\n",
    "(stock_data.head())"
   ]
  },
  {
   "cell_type": "code",
   "execution_count": 4,
   "metadata": {},
   "outputs": [
    {
     "data": {
      "text/html": [
       "<div>\n",
       "<style scoped>\n",
       "    .dataframe tbody tr th:only-of-type {\n",
       "        vertical-align: middle;\n",
       "    }\n",
       "\n",
       "    .dataframe tbody tr th {\n",
       "        vertical-align: top;\n",
       "    }\n",
       "\n",
       "    .dataframe thead th {\n",
       "        text-align: right;\n",
       "    }\n",
       "</style>\n",
       "<table border=\"1\" class=\"dataframe\">\n",
       "  <thead>\n",
       "    <tr style=\"text-align: right;\">\n",
       "      <th></th>\n",
       "      <th>Date</th>\n",
       "      <th>Close</th>\n",
       "      <th>Volume</th>\n",
       "      <th>MA7</th>\n",
       "      <th>MA21</th>\n",
       "      <th>MA42</th>\n",
       "      <th>MACD</th>\n",
       "      <th>EMA</th>\n",
       "    </tr>\n",
       "  </thead>\n",
       "  <tbody>\n",
       "    <tr>\n",
       "      <th>1259</th>\n",
       "      <td>2018-01-02</td>\n",
       "      <td>172.259995</td>\n",
       "      <td>25555900</td>\n",
       "      <td>171.965714</td>\n",
       "      <td>171.909047</td>\n",
       "      <td>172.157619</td>\n",
       "      <td>0.386977</td>\n",
       "      <td>171.455446</td>\n",
       "    </tr>\n",
       "    <tr>\n",
       "      <th>1260</th>\n",
       "      <td>2018-01-03</td>\n",
       "      <td>172.229996</td>\n",
       "      <td>29517900</td>\n",
       "      <td>171.568571</td>\n",
       "      <td>171.965238</td>\n",
       "      <td>172.284762</td>\n",
       "      <td>0.375116</td>\n",
       "      <td>171.971813</td>\n",
       "    </tr>\n",
       "    <tr>\n",
       "      <th>1261</th>\n",
       "      <td>2018-01-04</td>\n",
       "      <td>173.029999</td>\n",
       "      <td>22434600</td>\n",
       "      <td>171.285714</td>\n",
       "      <td>172.119047</td>\n",
       "      <td>172.401905</td>\n",
       "      <td>0.425366</td>\n",
       "      <td>172.677270</td>\n",
       "    </tr>\n",
       "    <tr>\n",
       "      <th>1262</th>\n",
       "      <td>2018-01-05</td>\n",
       "      <td>175.000000</td>\n",
       "      <td>23660000</td>\n",
       "      <td>171.918571</td>\n",
       "      <td>172.374285</td>\n",
       "      <td>172.461429</td>\n",
       "      <td>0.617039</td>\n",
       "      <td>174.225757</td>\n",
       "    </tr>\n",
       "    <tr>\n",
       "      <th>1263</th>\n",
       "      <td>2018-01-08</td>\n",
       "      <td>174.350006</td>\n",
       "      <td>20567800</td>\n",
       "      <td>172.454285</td>\n",
       "      <td>172.628571</td>\n",
       "      <td>172.463810</td>\n",
       "      <td>0.708328</td>\n",
       "      <td>174.308590</td>\n",
       "    </tr>\n",
       "  </tbody>\n",
       "</table>\n",
       "</div>"
      ],
      "text/plain": [
       "            Date       Close    Volume         MA7        MA21        MA42  \\\n",
       "1259  2018-01-02  172.259995  25555900  171.965714  171.909047  172.157619   \n",
       "1260  2018-01-03  172.229996  29517900  171.568571  171.965238  172.284762   \n",
       "1261  2018-01-04  173.029999  22434600  171.285714  172.119047  172.401905   \n",
       "1262  2018-01-05  175.000000  23660000  171.918571  172.374285  172.461429   \n",
       "1263  2018-01-08  174.350006  20567800  172.454285  172.628571  172.463810   \n",
       "\n",
       "          MACD         EMA  \n",
       "1259  0.386977  171.455446  \n",
       "1260  0.375116  171.971813  \n",
       "1261  0.425366  172.677270  \n",
       "1262  0.617039  174.225757  \n",
       "1263  0.708328  174.308590  "
      ]
     },
     "execution_count": 4,
     "metadata": {},
     "output_type": "execute_result"
    }
   ],
   "source": [
    "#Deleting all the rows of year 2012 - 2017\n",
    "stock_dataset = stock_data.drop(stock_data.index[:1259]).copy()\n",
    "stock_dataset.head(5)"
   ]
  },
  {
   "cell_type": "code",
   "execution_count": 5,
   "metadata": {
    "collapsed": true
   },
   "outputs": [],
   "source": [
    "# Get rid of , in the Volume, then convert it to a float\n",
    "def volume_to_float(volume_str):\n",
    "    volume_str = str(volume_str)\n",
    "    return float(volume_str.replace(\",\",\"\"))\n",
    "\n",
    "stock_dataset['Volume'] = stock_dataset['Volume'].apply(volume_to_float)"
   ]
  },
  {
   "cell_type": "code",
   "execution_count": 6,
   "metadata": {},
   "outputs": [
    {
     "data": {
      "text/html": [
       "<div>\n",
       "<style scoped>\n",
       "    .dataframe tbody tr th:only-of-type {\n",
       "        vertical-align: middle;\n",
       "    }\n",
       "\n",
       "    .dataframe tbody tr th {\n",
       "        vertical-align: top;\n",
       "    }\n",
       "\n",
       "    .dataframe thead th {\n",
       "        text-align: right;\n",
       "    }\n",
       "</style>\n",
       "<table border=\"1\" class=\"dataframe\">\n",
       "  <thead>\n",
       "    <tr style=\"text-align: right;\">\n",
       "      <th></th>\n",
       "      <th>Article_Title</th>\n",
       "      <th>Published_date</th>\n",
       "    </tr>\n",
       "  </thead>\n",
       "  <tbody>\n",
       "    <tr>\n",
       "      <th>0</th>\n",
       "      <td>Apple fixes FaceTime privacy bug, will issue u...</td>\n",
       "      <td>Feb 01 2019</td>\n",
       "    </tr>\n",
       "    <tr>\n",
       "      <th>1</th>\n",
       "      <td>UPDATE 2-Foxconn vows to build Wisconsin plant...</td>\n",
       "      <td>Feb 01 2019</td>\n",
       "    </tr>\n",
       "    <tr>\n",
       "      <th>2</th>\n",
       "      <td>Breakingviews - Review: The case for regulatin...</td>\n",
       "      <td>Feb 01 2019</td>\n",
       "    </tr>\n",
       "    <tr>\n",
       "      <th>3</th>\n",
       "      <td>UPDATE 1-Apple fixes FaceTime privacy bug, wil...</td>\n",
       "      <td>Feb 01 2019</td>\n",
       "    </tr>\n",
       "    <tr>\n",
       "      <th>4</th>\n",
       "      <td>Venezuela's Maduro loosens private sector, cur...</td>\n",
       "      <td>Jan 31 2019</td>\n",
       "    </tr>\n",
       "  </tbody>\n",
       "</table>\n",
       "</div>"
      ],
      "text/plain": [
       "                                       Article_Title Published_date\n",
       "0  Apple fixes FaceTime privacy bug, will issue u...    Feb 01 2019\n",
       "1  UPDATE 2-Foxconn vows to build Wisconsin plant...    Feb 01 2019\n",
       "2  Breakingviews - Review: The case for regulatin...    Feb 01 2019\n",
       "3  UPDATE 1-Apple fixes FaceTime privacy bug, wil...    Feb 01 2019\n",
       "4  Venezuela's Maduro loosens private sector, cur...    Jan 31 2019"
      ]
     },
     "execution_count": 6,
     "metadata": {},
     "output_type": "execute_result"
    }
   ],
   "source": [
    "(news_headlines.head())"
   ]
  },
  {
   "cell_type": "markdown",
   "metadata": {},
   "source": [
    "#### FORMATTING DATE TO REQUIRED FORMAT OF STOCK DATA \n",
    "\n",
    "We see that there is a discrepancy in the way the date is represented in the Stock data and the how the date is scraped from the news websites. This should be fixed in order to combine the stock data with the news data. "
   ]
  },
  {
   "cell_type": "code",
   "execution_count": null,
   "metadata": {},
   "outputs": [],
   "source": [
    "#Fixing the format of the date\n",
    "\n",
    "date_list = []\n",
    "for date in news_headlines['Published_date']:\n",
    "    datetime_object = datetime.strptime(date + '  1:33PM', '%b %d %Y %I:%M%p')\n",
    "    if(datetime_object.month < 10):\n",
    "        month = \"0\" + str(datetime_object.month)\n",
    "    else:\n",
    "        month = str(datetime_object.month)\n",
    "    if(datetime_object.day < 10):\n",
    "        day = \"0\" + str(datetime_object.day)\n",
    "    else:\n",
    "        day = str(datetime_object.day)\n",
    "    date_list.append(str(datetime_object.year) + \"-\" + month + \"-\" + day)\n",
    "    print(str(datetime_object.year) + \"-\" + month + \"-\" + day)"
   ]
  },
  {
   "cell_type": "code",
   "execution_count": 8,
   "metadata": {},
   "outputs": [
    {
     "name": "stdout",
     "output_type": "stream",
     "text": [
      "                                         Article_Title Published_date  \\\n",
      "799           MIDEAST - Factors to watch - December 31    Dec 30 2017   \n",
      "798  Breakingviews - TV content wars will have gris...    Jan 02 2018   \n",
      "797  Breakingviews - Tech salad will come with a si...    Jan 03 2018   \n",
      "796  SEC mixes message on Apple shareholder proposa...    Jan 03 2018   \n",
      "795  SEC mixes message on Apple shareholder proposa...    Jan 03 2018   \n",
      "\n",
      "           Date  \n",
      "799  2017-12-30  \n",
      "798  2018-01-02  \n",
      "797  2018-01-03  \n",
      "796  2018-01-03  \n",
      "795  2018-01-03  \n"
     ]
    }
   ],
   "source": [
    "#Converted Date and Reindexing\n",
    "\n",
    "news_headlines['Date'] = np.array(date_list)\n",
    "news_headlines = news_headlines.reindex(index=news_headlines.index[::-1]).copy()\n",
    "print(news_headlines.head())"
   ]
  },
  {
   "cell_type": "markdown",
   "metadata": {},
   "source": [
    "#### Ensure the Dates from both the datasets are indexed in the same order ( Jan 2018 to Dec 2018 ). \n",
    "#### If this is not in the same order, when we try to retain only the news headlines for the financial days later on, we will face major issues.\n"
   ]
  },
  {
   "cell_type": "code",
   "execution_count": 9,
   "metadata": {},
   "outputs": [
    {
     "name": "stdout",
     "output_type": "stream",
     "text": [
      "            Date       Close      Volume         MA7        MA21        MA42  \\\n",
      "1259  2018-01-02  172.259995  25555900.0  171.965714  171.909047  172.157619   \n",
      "1260  2018-01-03  172.229996  29517900.0  171.568571  171.965238  172.284762   \n",
      "1261  2018-01-04  173.029999  22434600.0  171.285714  172.119047  172.401905   \n",
      "\n",
      "          MACD         EMA  \n",
      "1259  0.386977  171.455446  \n",
      "1260  0.375116  171.971813  \n",
      "1261  0.425366  172.677270  \n"
     ]
    }
   ],
   "source": [
    "print(stock_dataset.head(3))"
   ]
  },
  {
   "cell_type": "code",
   "execution_count": 10,
   "metadata": {},
   "outputs": [
    {
     "data": {
      "text/plain": [
       "Article_Title     0\n",
       "Published_date    0\n",
       "Date              0\n",
       "dtype: int64"
      ]
     },
     "execution_count": 10,
     "metadata": {},
     "output_type": "execute_result"
    }
   ],
   "source": [
    "# Checking for null values\n",
    "news_headlines.isnull().sum()"
   ]
  },
  {
   "cell_type": "code",
   "execution_count": 11,
   "metadata": {},
   "outputs": [
    {
     "name": "stdout",
     "output_type": "stream",
     "text": [
      "(1510, 8)\n",
      "(800, 2)\n"
     ]
    }
   ],
   "source": [
    "news_headlines.drop(['Published_date'], inplace = True, axis=1)\n",
    "print(stock_data.shape)\n",
    "print(news_headlines.shape)\n"
   ]
  },
  {
   "cell_type": "markdown",
   "metadata": {},
   "source": [
    "#### We extract the news for all the dates the stock market is active, i.e only for the financial days. \n"
   ]
  },
  {
   "cell_type": "code",
   "execution_count": 12,
   "metadata": {},
   "outputs": [
    {
     "name": "stdout",
     "output_type": "stream",
     "text": [
      "251\n",
      "249\n"
     ]
    }
   ],
   "source": [
    "print(len(set(stock_dataset.Date)))\n",
    "print(len(set(news_headlines.Date)))"
   ]
  },
  {
   "cell_type": "markdown",
   "metadata": {},
   "source": [
    "#### Remove the extra dates that are in news. We loop throough all the dates in news headlines, now that we have taken care of the format, we retain only those that are present in the stock dataset"
   ]
  },
  {
   "cell_type": "code",
   "execution_count": 13,
   "metadata": {
    "collapsed": true
   },
   "outputs": [],
   "source": [
    "news_headlines = news_headlines[news_headlines.Date.isin(stock_dataset.Date)]"
   ]
  },
  {
   "cell_type": "code",
   "execution_count": 14,
   "metadata": {},
   "outputs": [
    {
     "data": {
      "text/plain": [
       "49"
      ]
     },
     "execution_count": 14,
     "metadata": {},
     "output_type": "execute_result"
    }
   ],
   "source": [
    "missing_dates = list(set(stock_dataset.Date) - set(news_headlines.Date))\n",
    "len(missing_dates)"
   ]
  },
  {
   "cell_type": "code",
   "execution_count": 111,
   "metadata": {},
   "outputs": [
    {
     "data": {
      "text/html": [
       "<div>\n",
       "<style scoped>\n",
       "    .dataframe tbody tr th:only-of-type {\n",
       "        vertical-align: middle;\n",
       "    }\n",
       "\n",
       "    .dataframe tbody tr th {\n",
       "        vertical-align: top;\n",
       "    }\n",
       "\n",
       "    .dataframe thead th {\n",
       "        text-align: right;\n",
       "    }\n",
       "</style>\n",
       "<table border=\"1\" class=\"dataframe\">\n",
       "  <thead>\n",
       "    <tr style=\"text-align: right;\">\n",
       "      <th></th>\n",
       "      <th>Date</th>\n",
       "      <th>Close</th>\n",
       "      <th>Volume</th>\n",
       "      <th>MA7</th>\n",
       "      <th>MA21</th>\n",
       "      <th>MA42</th>\n",
       "      <th>MACD</th>\n",
       "      <th>EMA</th>\n",
       "      <th>Article_Title</th>\n",
       "    </tr>\n",
       "  </thead>\n",
       "  <tbody>\n",
       "    <tr>\n",
       "      <th>0</th>\n",
       "      <td>2018-01-02</td>\n",
       "      <td>172.259995</td>\n",
       "      <td>25555900.0</td>\n",
       "      <td>171.965714</td>\n",
       "      <td>171.909047</td>\n",
       "      <td>172.157619</td>\n",
       "      <td>0.386977</td>\n",
       "      <td>171.455446</td>\n",
       "      <td>Breakingviews - TV content wars will have gris...</td>\n",
       "    </tr>\n",
       "    <tr>\n",
       "      <th>1</th>\n",
       "      <td>2018-01-03</td>\n",
       "      <td>172.229996</td>\n",
       "      <td>29517900.0</td>\n",
       "      <td>171.568571</td>\n",
       "      <td>171.965238</td>\n",
       "      <td>172.284762</td>\n",
       "      <td>0.375116</td>\n",
       "      <td>171.971813</td>\n",
       "      <td>Breakingviews - Tech salad will come with a si...</td>\n",
       "    </tr>\n",
       "    <tr>\n",
       "      <th>2</th>\n",
       "      <td>2018-01-03</td>\n",
       "      <td>172.229996</td>\n",
       "      <td>29517900.0</td>\n",
       "      <td>171.568571</td>\n",
       "      <td>171.965238</td>\n",
       "      <td>172.284762</td>\n",
       "      <td>0.375116</td>\n",
       "      <td>171.971813</td>\n",
       "      <td>SEC mixes message on Apple shareholder proposa...</td>\n",
       "    </tr>\n",
       "    <tr>\n",
       "      <th>3</th>\n",
       "      <td>2018-01-03</td>\n",
       "      <td>172.229996</td>\n",
       "      <td>29517900.0</td>\n",
       "      <td>171.568571</td>\n",
       "      <td>171.965238</td>\n",
       "      <td>172.284762</td>\n",
       "      <td>0.375116</td>\n",
       "      <td>171.971813</td>\n",
       "      <td>SEC mixes message on Apple shareholder proposa...</td>\n",
       "    </tr>\n",
       "    <tr>\n",
       "      <th>4</th>\n",
       "      <td>2018-01-04</td>\n",
       "      <td>173.029999</td>\n",
       "      <td>22434600.0</td>\n",
       "      <td>171.285714</td>\n",
       "      <td>172.119047</td>\n",
       "      <td>172.401905</td>\n",
       "      <td>0.425366</td>\n",
       "      <td>172.677270</td>\n",
       "      <td></td>\n",
       "    </tr>\n",
       "    <tr>\n",
       "      <th>5</th>\n",
       "      <td>2018-01-05</td>\n",
       "      <td>175.000000</td>\n",
       "      <td>23660000.0</td>\n",
       "      <td>171.918571</td>\n",
       "      <td>172.374285</td>\n",
       "      <td>172.461429</td>\n",
       "      <td>0.617039</td>\n",
       "      <td>174.225757</td>\n",
       "      <td>UPDATE 2-Apple to issue fix for iPhones, Macs ...</td>\n",
       "    </tr>\n",
       "    <tr>\n",
       "      <th>6</th>\n",
       "      <td>2018-01-05</td>\n",
       "      <td>175.000000</td>\n",
       "      <td>23660000.0</td>\n",
       "      <td>171.918571</td>\n",
       "      <td>172.374285</td>\n",
       "      <td>172.461429</td>\n",
       "      <td>0.617039</td>\n",
       "      <td>174.225757</td>\n",
       "      <td>Apple to issue fix for iPhones, Macs at risk f...</td>\n",
       "    </tr>\n",
       "    <tr>\n",
       "      <th>7</th>\n",
       "      <td>2018-01-05</td>\n",
       "      <td>175.000000</td>\n",
       "      <td>23660000.0</td>\n",
       "      <td>171.918571</td>\n",
       "      <td>172.374285</td>\n",
       "      <td>172.461429</td>\n",
       "      <td>0.617039</td>\n",
       "      <td>174.225757</td>\n",
       "      <td>Friday Morning Briefing</td>\n",
       "    </tr>\n",
       "    <tr>\n",
       "      <th>8</th>\n",
       "      <td>2018-01-08</td>\n",
       "      <td>174.350006</td>\n",
       "      <td>20567800.0</td>\n",
       "      <td>172.454285</td>\n",
       "      <td>172.628571</td>\n",
       "      <td>172.463810</td>\n",
       "      <td>0.708328</td>\n",
       "      <td>174.308590</td>\n",
       "      <td>Monday Morning Briefing</td>\n",
       "    </tr>\n",
       "    <tr>\n",
       "      <th>9</th>\n",
       "      <td>2018-01-08</td>\n",
       "      <td>174.350006</td>\n",
       "      <td>20567800.0</td>\n",
       "      <td>172.454285</td>\n",
       "      <td>172.628571</td>\n",
       "      <td>172.463810</td>\n",
       "      <td>0.708328</td>\n",
       "      <td>174.308590</td>\n",
       "      <td>REFILE-Apple should address youth phone addict...</td>\n",
       "    </tr>\n",
       "  </tbody>\n",
       "</table>\n",
       "</div>"
      ],
      "text/plain": [
       "         Date       Close      Volume         MA7        MA21        MA42  \\\n",
       "0  2018-01-02  172.259995  25555900.0  171.965714  171.909047  172.157619   \n",
       "1  2018-01-03  172.229996  29517900.0  171.568571  171.965238  172.284762   \n",
       "2  2018-01-03  172.229996  29517900.0  171.568571  171.965238  172.284762   \n",
       "3  2018-01-03  172.229996  29517900.0  171.568571  171.965238  172.284762   \n",
       "4  2018-01-04  173.029999  22434600.0  171.285714  172.119047  172.401905   \n",
       "5  2018-01-05  175.000000  23660000.0  171.918571  172.374285  172.461429   \n",
       "6  2018-01-05  175.000000  23660000.0  171.918571  172.374285  172.461429   \n",
       "7  2018-01-05  175.000000  23660000.0  171.918571  172.374285  172.461429   \n",
       "8  2018-01-08  174.350006  20567800.0  172.454285  172.628571  172.463810   \n",
       "9  2018-01-08  174.350006  20567800.0  172.454285  172.628571  172.463810   \n",
       "\n",
       "       MACD         EMA                                      Article_Title  \n",
       "0  0.386977  171.455446  Breakingviews - TV content wars will have gris...  \n",
       "1  0.375116  171.971813  Breakingviews - Tech salad will come with a si...  \n",
       "2  0.375116  171.971813  SEC mixes message on Apple shareholder proposa...  \n",
       "3  0.375116  171.971813  SEC mixes message on Apple shareholder proposa...  \n",
       "4  0.425366  172.677270                                                     \n",
       "5  0.617039  174.225757  UPDATE 2-Apple to issue fix for iPhones, Macs ...  \n",
       "6  0.617039  174.225757  Apple to issue fix for iPhones, Macs at risk f...  \n",
       "7  0.617039  174.225757                            Friday Morning Briefing  \n",
       "8  0.708328  174.308590                            Monday Morning Briefing  \n",
       "9  0.708328  174.308590  REFILE-Apple should address youth phone addict...  "
      ]
     },
     "execution_count": 111,
     "metadata": {},
     "output_type": "execute_result"
    }
   ],
   "source": [
    "#Merging the two datasets over the 'Date' column, performing a LEFT JOIN \n",
    "merged_data = pd.merge(stock_dataset, news_headlines, on='Date', how='left')\n",
    "merged_data['Article_Title'].fillna(\"\", inplace=True)\n",
    "\n",
    "merged_data.head(10)"
   ]
  },
  {
   "cell_type": "code",
   "execution_count": 16,
   "metadata": {
    "collapsed": true
   },
   "outputs": [],
   "source": [
    "#Removing the extra headlines for the same dates, simplifies our dataset \n",
    "merged_data = merged_data.drop_duplicates(subset=['Date'], keep='first')"
   ]
  },
  {
   "cell_type": "code",
   "execution_count": null,
   "metadata": {},
   "outputs": [],
   "source": [
    "# Create a list of the opening prices and their corresponding daily headlines from the news\n",
    "price = []\n",
    "newstitles = []\n",
    "\n",
    "for row in merged_data.iterrows():\n",
    "    date = row[1]['Date']\n",
    "    print(date)\n",
    "    price.append(row[1]['Close'])\n",
    "    newstitles.append(row[1]['Article_Title'])    \n",
    "    # Track progress\n",
    "    if len(price) % 20 == 0:\n",
    "        print(len(price))"
   ]
  },
  {
   "cell_type": "code",
   "execution_count": 18,
   "metadata": {
    "collapsed": true
   },
   "outputs": [],
   "source": [
    "# A list of contractions from http://stackoverflow.com/questions/19790188/expanding-english-language-contractions-in-python\n",
    "contractions = { \n",
    "\"ain't\": \"am not\",\n",
    "\"aren't\": \"are not\",\n",
    "\"can't\": \"cannot\",\n",
    "\"can't've\": \"cannot have\",\n",
    "\"'cause\": \"because\",\n",
    "\"could've\": \"could have\",\n",
    "\"couldn't\": \"could not\",\n",
    "\"couldn't've\": \"could not have\",\n",
    "\"didn't\": \"did not\",\n",
    "\"doesn't\": \"does not\",\n",
    "\"don't\": \"do not\",\n",
    "\"hadn't\": \"had not\",\n",
    "\"hadn't've\": \"had not have\",\n",
    "\"hasn't\": \"has not\",\n",
    "\"haven't\": \"have not\",\n",
    "\"he'd\": \"he would\",\n",
    "\"he'd've\": \"he would have\",\n",
    "\"he'll\": \"he will\",\n",
    "\"he's\": \"he is\",\n",
    "\"how'd\": \"how did\",\n",
    "\"how'll\": \"how will\",\n",
    "\"how's\": \"how is\",\n",
    "\"i'd\": \"i would\",\n",
    "\"i'll\": \"i will\",\n",
    "\"i'm\": \"i am\",\n",
    "\"i've\": \"i have\",\n",
    "\"isn't\": \"is not\",\n",
    "\"it'd\": \"it would\",\n",
    "\"it'll\": \"it will\",\n",
    "\"it's\": \"it is\",\n",
    "\"let's\": \"let us\",\n",
    "\"ma'am\": \"madam\",\n",
    "\"mayn't\": \"may not\",\n",
    "\"might've\": \"might have\",\n",
    "\"mightn't\": \"might not\",\n",
    "\"must've\": \"must have\",\n",
    "\"mustn't\": \"must not\",\n",
    "\"needn't\": \"need not\",\n",
    "\"oughtn't\": \"ought not\",\n",
    "\"shan't\": \"shall not\",\n",
    "\"sha'n't\": \"shall not\",\n",
    "\"she'd\": \"she would\",\n",
    "\"she'll\": \"she will\",\n",
    "\"she's\": \"she is\",\n",
    "\"should've\": \"should have\",\n",
    "\"shouldn't\": \"should not\",\n",
    "\"that'd\": \"that would\",\n",
    "\"that's\": \"that is\",\n",
    "\"there'd\": \"there had\",\n",
    "\"there's\": \"there is\",\n",
    "\"they'd\": \"they would\",\n",
    "\"they'll\": \"they will\",\n",
    "\"they're\": \"they are\",\n",
    "\"they've\": \"they have\",\n",
    "\"wasn't\": \"was not\",\n",
    "\"we'd\": \"we would\",\n",
    "\"we'll\": \"we will\",\n",
    "\"we're\": \"we are\",\n",
    "\"we've\": \"we have\",\n",
    "\"weren't\": \"were not\",\n",
    "\"what'll\": \"what will\",\n",
    "\"what're\": \"what are\",\n",
    "\"what's\": \"what is\",\n",
    "\"what've\": \"what have\",\n",
    "\"where'd\": \"where did\",\n",
    "\"where's\": \"where is\",\n",
    "\"who'll\": \"who will\",\n",
    "\"who's\": \"who is\",\n",
    "\"won't\": \"will not\",\n",
    "\"wouldn't\": \"would not\",\n",
    "\"you'd\": \"you would\",\n",
    "\"you'll\": \"you will\",\n",
    "\"you're\": \"you are\"\n",
    "}"
   ]
  },
  {
   "cell_type": "code",
   "execution_count": 1,
   "metadata": {
    "collapsed": true
   },
   "outputs": [],
   "source": [
    "def clean_text(text, remove_stopwords = True):\n",
    "    '''Remove unwanted characters and format the text to create fewer nulls word embeddings'''\n",
    "    \n",
    "    # Convert words to lower case\n",
    "    text = text.lower()\n",
    "    \n",
    "    # Replace contractions with their longer forms \n",
    "    if True:\n",
    "        text = text.split()\n",
    "        new_text = []\n",
    "        for word in text:\n",
    "            if word in contractions:\n",
    "                new_text.append(contractions[word])\n",
    "            else:\n",
    "                new_text.append(word)\n",
    "        text = \" \".join(new_text)\n",
    "    \n",
    "    # Format words and remove unwanted characters\n",
    "    text = re.sub(r'[_\"\\-;%()|.,+&=*%.,!?:#@\\[\\]]', ' ', text)\n",
    "    text = re.sub(r'\\'', ' ', text)\n",
    "    text = re.sub(r'\\$', ' $ ', text)\n",
    "    text = re.sub(r'u s ', ' united states ', text)\n",
    "    text = re.sub(r'us ', ' united states ', text)\n",
    "    text = re.sub(r'u.s. ', ' united states ', text)\n",
    "    text = re.sub(r'u n ', ' united nations ', text)\n",
    "    text = re.sub(r'u.n. ', ' united nations ', text)\n",
    "    text = re.sub(r'u k ', ' united kingdom ', text)\n",
    "    text = re.sub(r'uk ', ' united kingdom ', text)\n",
    "    #text = re.sub(r'$ ', 'dollar  ', text)\n",
    "    #text = re.sub(r'$', 'dollar  ', text)\n",
    "    text = re.sub(r' yr ', ' year ', text)\n",
    "    \n",
    "    # Optionally, remove stop words\n",
    "    if remove_stopwords:\n",
    "        text = text.split()\n",
    "        stops = set(stopwords.words(\"english\"))\n",
    "        text = [w for w in text if not w in stops]\n",
    "        text = \" \".join(text)\n",
    "\n",
    "    return text"
   ]
  },
  {
   "cell_type": "code",
   "execution_count": null,
   "metadata": {},
   "outputs": [],
   "source": [
    "# Clean the headlines\n",
    "clean_headlines = []\n",
    "\n",
    "for daily_headlines in merged_data[\"Article_Title\"]:\n",
    "    print(daily_headlines)\n",
    "    clean_headlines.append(clean_text(daily_headlines))"
   ]
  },
  {
   "cell_type": "code",
   "execution_count": 22,
   "metadata": {},
   "outputs": [
    {
     "name": "stdout",
     "output_type": "stream",
     "text": [
      "Size of Vocabulary: 1015\n"
     ]
    }
   ],
   "source": [
    "# Store each unique word and it's counts \n",
    "word_counts = {}\n",
    "\n",
    "for line in clean_headlines:\n",
    "    for word in line.split():\n",
    "        if word not in word_counts:\n",
    "            word_counts[word] = 1\n",
    "        else:\n",
    "            word_counts[word] += 1\n",
    "            \n",
    "print(\"Size of Vocabulary:\", len(word_counts))"
   ]
  },
  {
   "cell_type": "code",
   "execution_count": 23,
   "metadata": {},
   "outputs": [
    {
     "name": "stdout",
     "output_type": "stream",
     "text": [
      "Word embeddings: 2196017\n"
     ]
    }
   ],
   "source": [
    "# Load GloVe's embeddings\n",
    "embeddings_index = {}\n",
    "with open('/Users/aishwaryagunashekar/Desktop/Stock_Market_Project/Data/glove.840B.300d.txt', encoding='utf-8') as f:\n",
    "    for line in f:\n",
    "        values = line.split(' ')\n",
    "        \n",
    "        #Get the word represented \n",
    "        word = values[0]\n",
    "        \n",
    "        #Get the corresponding vector representation of the word \n",
    "        embedding = np.asarray(values[1:], dtype='float32')\n",
    "        \n",
    "        #Store every word and it's corresponding representation in a dictionary \n",
    "        embeddings_index[word] = embedding\n",
    "\n",
    "print('Word embeddings:', len(embeddings_index))"
   ]
  },
  {
   "cell_type": "code",
   "execution_count": 24,
   "metadata": {},
   "outputs": [
    {
     "name": "stdout",
     "output_type": "stream",
     "text": [
      "Number of words missing from GloVe: 1\n",
      "Percent of words that are missing from vocabulary: 0.1%\n"
     ]
    }
   ],
   "source": [
    "# Find the number of words that are missing from GloVe, and are used more than our threshold.\n",
    "missing_words = 0\n",
    "threshold = 10\n",
    "\n",
    "for word, count in word_counts.items():\n",
    "    if count > threshold:\n",
    "        if word not in embeddings_index:\n",
    "            missing_words += 1\n",
    "            \n",
    "missing_ratio = round(missing_words/len(word_counts),4)*100\n",
    "            \n",
    "print(\"Number of words missing from GloVe:\", missing_words)\n",
    "print(\"Percent of words that are missing from vocabulary: {}%\".format(missing_ratio))"
   ]
  },
  {
   "cell_type": "code",
   "execution_count": 27,
   "metadata": {
    "collapsed": true
   },
   "outputs": [],
   "source": [
    "# Limit the vocab to words that appear are in GloVe\n",
    "\n",
    "# Dictionary to convert words to integers\n",
    "vocab_to_int = {} \n",
    "\n",
    "value = 0\n",
    "for word, count in word_counts.items():\n",
    "    if word in embeddings_index:\n",
    "        vocab_to_int[word] = value\n",
    "        value += 1\n",
    "\n",
    "codes = [\"<UNK>\",\"<PAD>\"]   \n",
    "\n",
    "# Add codes to vocab\n",
    "for code in codes:\n",
    "    vocab_to_int[code] = len(vocab_to_int)\n",
    "\n",
    "# Dictionary to convert integers to words\n",
    "int_to_vocab = {}\n",
    "for word, value in vocab_to_int.items():\n",
    "    int_to_vocab[value] = word\n",
    "\n"
   ]
  },
  {
   "cell_type": "code",
   "execution_count": 30,
   "metadata": {},
   "outputs": [
    {
     "name": "stdout",
     "output_type": "stream",
     "text": [
      "835\n"
     ]
    }
   ],
   "source": [
    "# Need to use 300 for embedding dimensions to match GloVe's vectors.\n",
    "embedding_dim = 300\n",
    "\n",
    "nb_words = len(vocab_to_int)\n",
    "# Create matrix with default values of zero\n",
    "word_embedding_matrix = np.zeros((nb_words, embedding_dim))\n",
    "\n",
    "#At the location i(int rep of the word) in the word_embedding_matrix, the corresponding Glove representation will b stored\n",
    "for word, i in vocab_to_int.items():\n",
    "    if word in embeddings_index:\n",
    "        # Row i in the matrix will be filled with the Glove vector representation of the corresponding word \n",
    "        word_embedding_matrix[i] = embeddings_index[word]\n",
    "    else:\n",
    "        # If word not in GloVe, create a random embedding for it\n",
    "        new_embedding = np.array(np.random.uniform(-1.0, 1.0, embedding_dim))\n",
    "        embeddings_index[word] = new_embedding\n",
    "        word_embedding_matrix[i] = new_embedding\n",
    "\n",
    "# Check if value matches len(vocab_to_int)\n",
    "print(len(word_embedding_matrix))"
   ]
  },
  {
   "cell_type": "code",
   "execution_count": null,
   "metadata": {},
   "outputs": [],
   "source": [
    "# Change the text from words to integers\n",
    "# If word is not in vocab, replace it with <UNK> (unknown)\n",
    "word_count = 0\n",
    "unk_count = 0\n",
    "\n",
    "int_headlines = []\n",
    "\n",
    "for date in clean_headlines:\n",
    "    int_headline = []\n",
    "    print(date)\n",
    "    for word in date.split():\n",
    "        \n",
    "        word_count += 1 \n",
    "        if word in vocab_to_int:\n",
    "            int_headline.append(vocab_to_int[word])\n",
    "            print(word, vocab_to_int[word])\n",
    "        else:\n",
    "            int_headline.append(vocab_to_int[\"<UNK>\"])\n",
    "            print(word, vocab_to_int[\"<UNK>\"])\n",
    "            unk_count += 1\n",
    "        \n",
    "    print(\"\\nWords being appended as a sentence\\n\", date)\n",
    "    print(int_headline)\n",
    "    int_headlines.append(int_headline)\n",
    "\n",
    "unk_percent = round(unk_count/word_count,4)*100\n",
    "\n",
    "print(\"Total number of words in headlines:\", word_count)\n",
    "print(\"Total number of UNKs in headlines:\", unk_count)\n",
    "print(\"Percent of words that are UNK: {}%\".format(unk_percent))"
   ]
  },
  {
   "cell_type": "code",
   "execution_count": null,
   "metadata": {},
   "outputs": [],
   "source": [
    "# Find the length of headlines\n",
    "lengths = []\n",
    "for date in int_headlines:\n",
    "    print(date)\n",
    "    print(\"\\n\")\n",
    "    lengths.append(len(date))\n",
    "\n",
    "# Create a dataframe so that the values can be inspected\n",
    "lengths = pd.DataFrame(lengths, columns=['counts'])"
   ]
  },
  {
   "cell_type": "code",
   "execution_count": 33,
   "metadata": {},
   "outputs": [
    {
     "data": {
      "text/html": [
       "<div>\n",
       "<style scoped>\n",
       "    .dataframe tbody tr th:only-of-type {\n",
       "        vertical-align: middle;\n",
       "    }\n",
       "\n",
       "    .dataframe tbody tr th {\n",
       "        vertical-align: top;\n",
       "    }\n",
       "\n",
       "    .dataframe thead th {\n",
       "        text-align: right;\n",
       "    }\n",
       "</style>\n",
       "<table border=\"1\" class=\"dataframe\">\n",
       "  <thead>\n",
       "    <tr style=\"text-align: right;\">\n",
       "      <th></th>\n",
       "      <th>counts</th>\n",
       "    </tr>\n",
       "  </thead>\n",
       "  <tbody>\n",
       "    <tr>\n",
       "      <th>count</th>\n",
       "      <td>251.000000</td>\n",
       "    </tr>\n",
       "    <tr>\n",
       "      <th>mean</th>\n",
       "      <td>7.199203</td>\n",
       "    </tr>\n",
       "    <tr>\n",
       "      <th>std</th>\n",
       "      <td>3.654061</td>\n",
       "    </tr>\n",
       "    <tr>\n",
       "      <th>min</th>\n",
       "      <td>1.000000</td>\n",
       "    </tr>\n",
       "    <tr>\n",
       "      <th>25%</th>\n",
       "      <td>6.000000</td>\n",
       "    </tr>\n",
       "    <tr>\n",
       "      <th>50%</th>\n",
       "      <td>8.000000</td>\n",
       "    </tr>\n",
       "    <tr>\n",
       "      <th>75%</th>\n",
       "      <td>10.000000</td>\n",
       "    </tr>\n",
       "    <tr>\n",
       "      <th>max</th>\n",
       "      <td>16.000000</td>\n",
       "    </tr>\n",
       "  </tbody>\n",
       "</table>\n",
       "</div>"
      ],
      "text/plain": [
       "           counts\n",
       "count  251.000000\n",
       "mean     7.199203\n",
       "std      3.654061\n",
       "min      1.000000\n",
       "25%      6.000000\n",
       "50%      8.000000\n",
       "75%     10.000000\n",
       "max     16.000000"
      ]
     },
     "execution_count": 33,
     "metadata": {},
     "output_type": "execute_result"
    }
   ],
   "source": [
    "lengths.describe()"
   ]
  },
  {
   "cell_type": "code",
   "execution_count": 35,
   "metadata": {},
   "outputs": [
    {
     "data": {
      "text/plain": [
       "[[833, 421, 572, 35, 425, 662, 833, 834, 834, 834, 834, 834, 834, 834, 834],\n",
       " [833, 488, 225, 215, 79, 725, 833, 834, 834, 834, 834, 834, 834, 834, 834],\n",
       " [609, 834, 834, 834, 834, 834, 834, 834, 834, 834, 834, 834, 834, 834, 834],\n",
       " [751, 423, 511, 108, 541, 480, 582, 759, 750, 412, 833, 834, 834, 834, 834],\n",
       " [622, 706, 833, 834, 834, 834, 834, 834, 834, 834, 834, 834, 834, 834, 834],\n",
       " [441, 706, 833, 834, 834, 834, 834, 834, 834, 834, 834, 834, 834, 834, 834],\n",
       " [84, 737, 511, 184, 68, 229, 833, 834, 834, 834, 834, 834, 834, 834, 834],\n",
       " [76, 706, 833, 834, 834, 834, 834, 834, 834, 834, 834, 834, 834, 834, 834],\n",
       " [144, 511, 568, 469, 367, 255, 415, 101, 833, 834, 834, 834, 834, 834, 834],\n",
       " [609, 834, 834, 834, 834, 834, 834, 834, 834, 834, 834, 834, 834, 834, 834],\n",
       " [633, 110, 16, 188, 0, 45, 833, 834, 834, 834, 834, 834, 834, 834, 834],\n",
       " [76, 706, 833, 834, 834, 834, 834, 834, 834, 834, 834, 834, 834, 834, 834],\n",
       " [511, 317, 155, 731, 268, 195, 833, 834, 834, 834, 834, 834, 834, 834, 834],\n",
       " [751, 803, 339, 783, 300, 188, 0, 199, 261, 833, 234, 809, 833, 834, 834],\n",
       " [511, 54, 833, 388, 585, 794, 287, 833, 834, 834, 834, 834, 834, 834, 834],\n",
       " [810, 247, 323, 514, 574, 803, 423, 217, 169, 648, 833, 834, 834, 834, 834],\n",
       " [810, 267, 791, 391, 161, 833, 834, 834, 834, 834, 834, 834, 834, 834, 834],\n",
       " [234, 646, 801, 125, 633, 430, 764, 833, 834, 834, 834, 834, 834, 834, 834],\n",
       " [511, 15, 658, 618, 644, 201, 580, 454, 833, 834, 834, 834, 834, 834, 834],\n",
       " [58, 527, 576, 7, 689, 516, 5, 60, 207, 833, 834, 834, 834, 834, 834],\n",
       " [77, 221, 406, 574, 556, 217, 528, 224, 595, 550, 433, 833, 834, 834, 834],\n",
       " [438, 511, 542, 1, 192, 315, 823, 833, 834, 834, 834, 834, 834, 834, 834],\n",
       " [142, 751, 307, 2, 576, 232, 494, 406, 500, 511, 644, 811, 390, 497, 803],\n",
       " [511, 93, 499, 341, 400, 171, 610, 311, 833, 834, 834, 834, 834, 834, 834],\n",
       " [511, 658, 618, 273, 61, 172, 213, 204, 833, 834, 834, 834, 834, 834, 834],\n",
       " [511, 549, 44, 439, 687, 444, 550, 503, 58, 538, 833, 834, 834, 834, 834],\n",
       " [410, 147, 831, 419, 670, 198, 833, 834, 834, 834, 834, 834, 834, 834, 834],\n",
       " [609, 834, 834, 834, 834, 834, 834, 834, 834, 834, 834, 834, 834, 834, 834],\n",
       " [664, 477, 87, 286, 31, 540, 26, 833, 834, 834, 834, 834, 834, 834, 834],\n",
       " [581, 463, 224, 112, 401, 519, 562, 526, 833, 834, 834, 834, 834, 834, 834],\n",
       " [762, 511, 747, 352, 689, 516, 833, 834, 834, 834, 834, 834, 834, 834, 834],\n",
       " [552, 522, 511, 231, 616, 597, 833, 834, 834, 834, 834, 834, 834, 834, 834],\n",
       " [151, 713, 598, 371, 471, 667, 833, 834, 834, 834, 834, 834, 834, 834, 834],\n",
       " [833, 606, 532, 531, 359, 833, 834, 834, 834, 834, 834, 834, 834, 834, 834],\n",
       " [751, 423, 511, 62, 275, 279, 375, 778, 833, 834, 834, 834, 834, 834, 834],\n",
       " [633, 833, 420, 188, 0, 833, 439, 234, 809, 833, 834, 834, 834, 834, 834],\n",
       " [414, 804, 734, 511, 336, 321, 779, 782, 574, 94, 808, 833, 834, 834, 834],\n",
       " [511, 92, 285, 697, 650, 550, 704, 104, 39, 833, 834, 834, 834, 834, 834],\n",
       " [609, 834, 834, 834, 834, 834, 834, 834, 834, 834, 834, 834, 834, 834, 834],\n",
       " [609, 834, 834, 834, 834, 834, 834, 834, 834, 834, 834, 834, 834, 834, 834],\n",
       " [76, 706, 833, 834, 834, 834, 834, 834, 834, 834, 834, 834, 834, 834, 834],\n",
       " [663, 313, 698, 95, 565, 58, 422, 833, 834, 834, 834, 834, 834, 834, 834],\n",
       " [819, 277, 520, 426, 387, 59, 694, 833, 834, 834, 834, 834, 834, 834, 834],\n",
       " [663, 313, 529, 238, 748, 226, 796, 473, 833, 834, 834, 834, 834, 834, 834],\n",
       " [245, 511, 432, 658, 154, 547, 833, 834, 834, 834, 834, 834, 834, 834, 834],\n",
       " [300, 468, 614, 398, 703, 188, 0, 107, 833, 834, 834, 834, 834, 834, 834],\n",
       " [833, 550, 163, 488, 627, 606, 833, 834, 834, 834, 834, 834, 834, 834, 834],\n",
       " [666, 488, 367, 833, 173, 833, 574, 803, 83, 833, 834, 834, 834, 834, 834],\n",
       " [511, 658, 833, 825, 28, 495, 415, 0, 493, 135, 833, 834, 834, 834, 834],\n",
       " [408, 235, 287, 511, 189, 392, 833, 834, 834, 834, 834, 834, 834, 834, 834],\n",
       " [576, 483, 658, 833, 474, 475, 355, 833, 834, 834, 834, 834, 834, 834, 834],\n",
       " [414, 804, 734, 511, 336, 321, 496, 574, 51, 808, 833, 834, 834, 834, 834],\n",
       " [751, 307, 511, 293, 230, 322, 560, 575, 833, 488, 833, 834, 834, 834, 834],\n",
       " [511, 47, 591, 299, 593, 607, 537, 833, 834, 834, 834, 834, 834, 834, 834],\n",
       " [609, 834, 834, 834, 834, 834, 834, 834, 834, 834, 834, 834, 834, 834, 834],\n",
       " [22, 166, 30, 550, 576, 479, 234, 809, 290, 833, 834, 834, 834, 834, 834],\n",
       " [609, 834, 834, 834, 834, 834, 834, 834, 834, 834, 834, 834, 834, 834, 834],\n",
       " [511, 702, 97, 605, 101, 282, 747, 833, 834, 834, 834, 834, 834, 834, 834],\n",
       " [511, 658, 19, 453, 12, 143, 442, 781, 833, 834, 834, 834, 834, 834, 834],\n",
       " [511, 746, 82, 538, 415, 340, 692, 833, 834, 834, 834, 834, 834, 834, 834],\n",
       " [511, 563, 415, 118, 330, 507, 810, 833, 834, 834, 834, 834, 834, 834, 834],\n",
       " [343, 677, 227, 781, 182, 776, 678, 789, 525, 833, 833, 834, 834, 834, 834],\n",
       " [609, 834, 834, 834, 834, 834, 834, 834, 834, 834, 834, 834, 834, 834, 834],\n",
       " [511, 719, 545, 287, 389, 257, 833, 834, 834, 834, 834, 834, 834, 834, 834],\n",
       " [609, 834, 834, 834, 834, 834, 834, 834, 834, 834, 834, 834, 834, 834, 834],\n",
       " [511, 312, 357, 234, 809, 67, 246, 167, 761, 121, 833, 834, 834, 834, 834],\n",
       " [234, 281, 196, 806, 833, 833, 24, 833, 834, 834, 834, 834, 834, 834, 834],\n",
       " [316, 418, 559, 435, 276, 661, 415, 421, 833, 834, 834, 834, 834, 834, 834],\n",
       " [142, 511, 27, 132, 415, 244, 821, 596, 681, 833, 834, 834, 834, 834, 834],\n",
       " [833, 533, 793, 234, 809, 630, 648, 686, 833, 833, 834, 834, 834, 834, 834],\n",
       " [641, 216, 472, 4, 334, 80, 833, 834, 834, 834, 834, 834, 834, 834, 834],\n",
       " [633, 91, 747, 722, 296, 833, 834, 834, 834, 834, 834, 834, 834, 834, 834],\n",
       " [609, 834, 834, 834, 834, 834, 834, 834, 834, 834, 834, 834, 834, 834, 834],\n",
       " [609, 834, 834, 834, 834, 834, 834, 834, 834, 834, 834, 834, 834, 834, 834],\n",
       " [126, 543, 749, 112, 312, 728, 833, 834, 834, 834, 834, 834, 834, 834, 834],\n",
       " [234, 809, 668, 511, 649, 504, 593, 689, 516, 833, 834, 834, 834, 834, 834],\n",
       " [810, 186, 744, 241, 511, 746, 27, 799, 833, 834, 834, 834, 834, 834, 834],\n",
       " [374, 379, 323, 618, 448, 511, 193, 833, 834, 834, 834, 834, 834, 834, 834],\n",
       " [833, 639, 254, 675, 6, 732, 777, 833, 834, 834, 834, 834, 834, 834, 834],\n",
       " [810, 92, 399, 488, 358, 773, 833, 834, 834, 834, 834, 834, 834, 834, 834],\n",
       " [144, 699, 457, 415, 353, 833, 604, 827, 816, 833, 834, 834, 834, 834, 834],\n",
       " [751, 803, 433, 716, 511, 494, 736, 576, 781, 786, 833, 834, 834, 834, 834],\n",
       " [283, 511, 381, 117, 833, 834, 834, 834, 834, 834, 834, 834, 834, 834, 834],\n",
       " [243, 511, 487, 234, 809, 107, 647, 602, 318, 833, 834, 834, 834, 834, 834],\n",
       " [142, 511, 736, 384, 657, 459, 628, 833, 834, 834, 834, 834, 834, 834, 834],\n",
       " [234, 809, 668, 511, 760, 689, 88, 55, 328, 452, 804, 833, 834, 834, 834],\n",
       " [243, 511, 598, 383, 359, 833, 834, 834, 834, 834, 834, 834, 834, 834, 834],\n",
       " [802, 610, 691, 361, 160, 587, 234, 809, 415, 833, 834, 834, 834, 834, 834],\n",
       " [690, 316, 72, 292, 567, 451, 550, 119, 58, 290, 800, 833, 834, 834, 834],\n",
       " [751, 803, 511, 23, 574, 803, 217, 149, 101, 546, 535, 833, 834, 834, 834],\n",
       " [609, 834, 834, 834, 834, 834, 834, 834, 834, 834, 834, 834, 834, 834, 834],\n",
       " [190, 136, 612, 41, 561, 284, 833, 834, 834, 834, 834, 834, 834, 834, 834],\n",
       " [511, 658, 606, 827, 127, 273, 611, 212, 644, 833, 834, 834, 834, 834, 834],\n",
       " [32, 795, 236, 43, 324, 511, 345, 477, 833, 834, 834, 834, 834, 834, 834],\n",
       " [755, 348, 788, 757, 594, 781, 329, 511, 682, 833, 834, 834, 834, 834, 834],\n",
       " [142, 511, 544, 584, 827, 683, 347, 833, 834, 834, 834, 834, 834, 834, 834],\n",
       " [609, 834, 834, 834, 834, 834, 834, 834, 834, 834, 834, 834, 834, 834, 834],\n",
       " [609, 834, 834, 834, 834, 834, 834, 834, 834, 834, 834, 834, 834, 834, 834],\n",
       " [609, 834, 834, 834, 834, 834, 834, 834, 834, 834, 834, 834, 834, 834, 834],\n",
       " [448, 531, 364, 755, 401, 704, 232, 785, 833, 834, 834, 834, 834, 834, 834],\n",
       " [234, 809, 133, 18, 511, 574, 148, 617, 164, 105, 833, 834, 834, 834, 834],\n",
       " [511, 99, 554, 815, 415, 480, 755, 348, 644, 833, 834, 834, 834, 834, 834],\n",
       " [415, 571, 406, 742, 86, 265, 599, 550, 484, 833, 834, 834, 834, 834, 834],\n",
       " [415, 571, 118, 196, 776, 790, 123, 833, 834, 834, 834, 834, 834, 834, 834],\n",
       " [583, 197, 350, 143, 511, 162, 464, 573, 833, 834, 834, 834, 834, 834, 834],\n",
       " [833, 833, 447, 779, 694, 557, 767, 833, 834, 834, 834, 834, 834, 834, 834],\n",
       " [833, 833, 359, 754, 660, 120, 574, 803, 833, 834, 834, 834, 834, 834, 834],\n",
       " [606, 522, 560, 653, 657, 113, 833, 834, 834, 834, 834, 834, 834, 834, 834],\n",
       " [609, 834, 834, 834, 834, 834, 834, 834, 834, 834, 834, 834, 834, 834, 834],\n",
       " [751, 307, 511, 320, 740, 443, 634, 415, 271, 480, 299, 833, 834, 834, 834],\n",
       " [833, 10, 438, 511, 510, 244, 335, 638, 833, 834, 834, 834, 834, 834, 834],\n",
       " [609, 834, 834, 834, 834, 834, 834, 834, 834, 834, 834, 834, 834, 834, 834],\n",
       " [751, 423, 511, 40, 529, 733, 200, 797, 362, 833, 834, 834, 834, 834, 834],\n",
       " [609, 834, 834, 834, 834, 834, 834, 834, 834, 834, 834, 834, 834, 834, 834],\n",
       " [751, 17, 511, 726, 828, 355, 365, 558, 252, 833, 834, 834, 834, 834, 834],\n",
       " [659, 794, 69, 252, 66, 205, 833, 834, 834, 834, 834, 834, 834, 834, 834],\n",
       " [428, 429, 707, 344, 491, 833, 834, 834, 834, 834, 834, 834, 834, 834, 834],\n",
       " [833, 511, 833, 109, 522, 52, 833, 834, 834, 834, 834, 834, 834, 834, 834],\n",
       " [755, 401, 380, 278, 218, 415, 810, 101, 118, 485, 785, 833, 834, 834, 834],\n",
       " [609, 834, 834, 834, 834, 834, 834, 834, 834, 834, 834, 834, 834, 834, 834],\n",
       " [609, 834, 834, 834, 834, 834, 834, 834, 834, 834, 834, 834, 834, 834, 834],\n",
       " [609, 834, 834, 834, 834, 834, 834, 834, 834, 834, 834, 834, 834, 834, 834],\n",
       " [751, 307, 511, 164, 280, 234, 809, 105, 833, 834, 834, 834, 834, 834, 834],\n",
       " [609, 834, 834, 834, 834, 834, 834, 834, 834, 834, 834, 834, 834, 834, 834],\n",
       " [609, 834, 834, 834, 834, 834, 834, 834, 834, 834, 834, 834, 834, 834, 834],\n",
       " [689, 516, 345, 531, 603, 488, 833, 834, 834, 834, 834, 834, 834, 834, 834],\n",
       " [715, 205, 8, 64, 65, 260, 352, 833, 834, 834, 834, 834, 834, 834, 834],\n",
       " [550, 53, 812, 369, 129, 143, 792, 288, 309, 833, 834, 834, 834, 834, 834],\n",
       " [609, 834, 834, 834, 834, 834, 834, 834, 834, 834, 834, 834, 834, 834, 834],\n",
       " [569, 326, 536, 511, 317, 118, 101, 833, 834, 834, 834, 834, 834, 834, 834],\n",
       " [333, 54, 194, 346, 33, 771, 833, 834, 834, 834, 834, 834, 834, 834, 834],\n",
       " [755, 196, 511, 455, 176, 214, 485, 833, 834, 834, 834, 834, 834, 834, 834],\n",
       " [530, 25, 624, 145, 794, 555, 593, 58, 455, 833, 833, 834, 834, 834, 834],\n",
       " [609, 834, 834, 834, 834, 834, 834, 834, 834, 834, 834, 834, 834, 834, 834],\n",
       " [413, 437, 42, 153, 833, 834, 834, 834, 834, 834, 834, 834, 834, 834, 834],\n",
       " [609, 834, 834, 834, 834, 834, 834, 834, 834, 834, 834, 834, 834, 834, 834],\n",
       " [609, 834, 834, 834, 834, 834, 834, 834, 834, 834, 834, 834, 834, 834, 834],\n",
       " [517, 356, 462, 376, 762, 821, 85, 143, 833, 834, 834, 834, 834, 834, 834],\n",
       " [511, 396, 671, 779, 34, 461, 234, 809, 833, 834, 834, 834, 834, 834, 834],\n",
       " [609, 834, 834, 834, 834, 834, 834, 834, 834, 834, 834, 834, 834, 834, 834],\n",
       " [15, 449, 618, 586, 274, 656, 833, 834, 834, 834, 834, 834, 834, 834, 834],\n",
       " [511, 658, 191, 348, 589, 240, 406, 210, 833, 834, 834, 834, 834, 834, 834],\n",
       " [553, 538, 501, 709, 821, 453, 600, 833, 834, 834, 834, 834, 834, 834, 834],\n",
       " [609, 834, 834, 834, 834, 834, 834, 834, 834, 834, 834, 834, 834, 834, 834],\n",
       " [609, 834, 834, 834, 834, 834, 834, 834, 834, 834, 834, 834, 834, 834, 834],\n",
       " [245, 511, 474, 73, 654, 411, 693, 833, 834, 834, 834, 834, 834, 834, 834],\n",
       " [511, 644, 294, 772, 531, 615, 207, 766, 211, 833, 834, 834, 834, 834, 834],\n",
       " [751, 423, 511, 820, 144, 156, 817, 329, 833, 834, 834, 834, 834, 834, 834],\n",
       " [768, 706, 833, 834, 834, 834, 834, 834, 834, 834, 834, 834, 834, 834, 834],\n",
       " [100, 564, 106, 234, 809, 448, 455, 807, 511, 298, 174, 729, 833, 834, 834],\n",
       " [833, 833, 302, 488, 358, 763, 325, 833, 834, 834, 834, 834, 834, 834, 834],\n",
       " [735, 705, 775, 346, 141, 470, 833, 834, 834, 834, 834, 834, 834, 834, 834],\n",
       " [270, 234, 809, 511, 14, 135, 89, 769, 288, 49, 833, 834, 834, 834, 834],\n",
       " [135, 780, 545, 342, 165, 228, 640, 833, 834, 834, 834, 834, 834, 834, 834],\n",
       " [622, 706, 833, 834, 834, 834, 834, 834, 834, 834, 834, 834, 834, 834, 834],\n",
       " [606, 273, 207, 714, 397, 364, 644, 833, 834, 834, 834, 834, 834, 834, 834],\n",
       " [511, 431, 373, 652, 223, 755, 833, 834, 834, 834, 834, 834, 834, 834, 834],\n",
       " [751, 803, 511, 395, 152, 338, 66, 621, 138, 833, 834, 834, 834, 834, 834],\n",
       " [609, 834, 834, 834, 834, 834, 834, 834, 834, 834, 834, 834, 834, 834, 834],\n",
       " [511, 637, 393, 237, 310, 550, 833, 834, 834, 834, 834, 834, 834, 834, 834],\n",
       " [98, 259, 16, 116, 150, 640, 295, 204, 773, 833, 834, 834, 834, 834, 834],\n",
       " [511, 658, 19, 488, 416, 827, 273, 708, 179, 48, 60, 486, 833, 834, 834],\n",
       " [609, 834, 834, 834, 834, 834, 834, 834, 834, 834, 834, 834, 834, 834, 834],\n",
       " [710, 208, 680, 137, 832, 833, 834, 834, 834, 834, 834, 834, 834, 834, 834],\n",
       " [609, 834, 834, 834, 834, 834, 834, 834, 834, 834, 834, 834, 834, 834, 834],\n",
       " [609, 834, 834, 834, 834, 834, 834, 834, 834, 834, 834, 834, 834, 834, 834],\n",
       " [609, 834, 834, 834, 834, 834, 834, 834, 834, 834, 834, 834, 834, 834, 834],\n",
       " [142, 751, 423, 511, 372, 672, 415, 576, 478, 739, 833, 834, 834, 834, 834],\n",
       " [450, 11, 573, 433, 830, 648, 833, 785, 833, 834, 834, 834, 834, 834, 834],\n",
       " [234, 809, 511, 566, 798, 695, 234, 809, 550, 290, 833, 834, 834, 834, 834],\n",
       " [590, 592, 788, 774, 765, 684, 400, 833, 834, 834, 834, 834, 834, 834, 834],\n",
       " [245, 511, 629, 206, 797, 460, 305, 234, 809, 101, 833, 834, 834, 834, 834],\n",
       " [689, 516, 219, 676, 96, 511, 833, 834, 834, 834, 834, 834, 834, 834, 834],\n",
       " [511, 658, 644, 490, 29, 111, 488, 314, 320, 301, 833, 834, 834, 834, 834],\n",
       " [689, 516, 445, 511, 488, 258, 126, 696, 651, 833, 834, 834, 834, 834, 834],\n",
       " [511, 502, 576, 779, 685, 404, 685, 833, 834, 834, 834, 834, 834, 834, 834],\n",
       " [751, 466, 511, 480, 278, 625, 693, 396, 234, 646, 833, 834, 834, 834, 834],\n",
       " [609, 834, 834, 834, 834, 834, 834, 834, 834, 834, 834, 834, 834, 834, 834],\n",
       " [234, 809, 668, 511, 548, 593, 689, 88, 407, 291, 833, 834, 834, 834, 834],\n",
       " [751, 803, 511, 112, 312, 57, 234, 809, 550, 290, 833, 834, 834, 834, 834],\n",
       " [438, 664, 700, 146, 374, 730, 833, 833, 834, 834, 834, 834, 834, 834, 834],\n",
       " [548, 324, 304, 9, 203, 616, 746, 289, 388, 833, 834, 834, 834, 834, 834],\n",
       " [751, 180, 415, 480, 250, 37, 718, 701, 157, 753, 833, 834, 834, 834, 834],\n",
       " [511, 636, 499, 557, 534, 773, 833, 834, 834, 834, 834, 834, 834, 834, 834],\n",
       " [514, 665, 511, 822, 386, 122, 833, 834, 834, 834, 834, 834, 834, 834, 834],\n",
       " [833, 234, 809, 101, 118, 70, 620, 833, 834, 834, 834, 834, 834, 834, 834],\n",
       " [609, 834, 834, 834, 834, 834, 834, 834, 834, 834, 834, 834, 834, 834, 834],\n",
       " [363, 394, 158, 513, 679, 576, 833, 834, 834, 834, 834, 834, 834, 834, 834],\n",
       " [438, 511, 1, 813, 21, 274, 656, 616, 833, 834, 834, 834, 834, 834, 834],\n",
       " [751, 803, 263, 756, 655, 319, 815, 209, 272, 685, 833, 834, 834, 834, 834],\n",
       " [488, 358, 551, 446, 256, 733, 458, 36, 833, 834, 834, 834, 834, 834, 834],\n",
       " [135, 741, 467, 786, 704, 601, 623, 490, 833, 834, 834, 834, 834, 834, 834],\n",
       " [588, 436, 644, 124, 440, 746, 833, 834, 834, 834, 834, 834, 834, 834, 834],\n",
       " [622, 706, 833, 834, 834, 834, 834, 834, 834, 834, 834, 834, 834, 834, 834],\n",
       " [434, 308, 56, 351, 799, 285, 424, 833, 834, 834, 834, 834, 834, 834, 834],\n",
       " [833, 833, 338, 253, 130, 129, 38, 833, 834, 834, 834, 834, 834, 834, 834],\n",
       " [606, 739, 475, 131, 3, 720, 505, 781, 833, 834, 834, 834, 834, 834, 834],\n",
       " [609, 834, 834, 834, 834, 834, 834, 834, 834, 834, 834, 834, 834, 834, 834],\n",
       " [613, 465, 13, 332, 511, 396, 385, 833, 834, 834, 834, 834, 834, 834, 834],\n",
       " [609, 834, 834, 834, 834, 834, 834, 834, 834, 834, 834, 834, 834, 834, 834],\n",
       " [98, 717, 626, 177, 297, 635, 511, 349, 833, 834, 834, 834, 834, 834, 834],\n",
       " [249, 90, 408, 824, 512, 523, 159, 175, 833, 834, 834, 834, 834, 834, 834],\n",
       " [550, 181, 489, 481, 511, 370, 833, 834, 834, 834, 834, 834, 834, 834, 834],\n",
       " [609, 834, 834, 834, 834, 834, 834, 834, 834, 834, 834, 834, 834, 834, 834],\n",
       " [511, 727, 139, 2, 118, 521, 46, 234, 809, 833, 834, 834, 834, 834, 834],\n",
       " [833, 70, 262, 229, 144, 412, 833, 834, 834, 834, 834, 834, 834, 834, 834],\n",
       " [76, 706, 833, 834, 834, 834, 834, 834, 834, 834, 834, 834, 834, 834, 834],\n",
       " [609, 834, 834, 834, 834, 834, 834, 834, 834, 834, 834, 834, 834, 834, 834],\n",
       " [609, 834, 834, 834, 834, 834, 834, 834, 834, 834, 834, 834, 834, 834, 834],\n",
       " [511, 372, 672, 669, 509, 833, 834, 834, 834, 834, 834, 834, 834, 834, 834],\n",
       " [645, 256, 467, 442, 273, 794, 448, 579, 833, 834, 834, 834, 834, 834, 834],\n",
       " [583, 705, 757, 233, 454, 78, 409, 511, 833, 834, 834, 834, 834, 834, 834],\n",
       " [243, 433, 382, 511, 576, 101, 743, 103, 539, 833, 834, 834, 834, 834, 834],\n",
       " [751, 423, 511, 818, 74, 53, 576, 752, 833, 834, 834, 834, 834, 834, 834],\n",
       " [751, 803, 511, 630, 631, 63, 492, 576, 752, 74, 53, 833, 834, 834, 834],\n",
       " [511, 242, 81, 833, 834, 834, 834, 834, 834, 834, 834, 834, 834, 834, 834],\n",
       " [609, 834, 834, 834, 834, 834, 834, 834, 834, 834, 834, 834, 834, 834, 834],\n",
       " [482, 483, 570, 178, 378, 595, 814, 688, 826, 833, 833, 834, 834, 834, 834],\n",
       " [751, 180, 511, 644, 708, 576, 631, 833, 834, 834, 834, 834, 834, 834, 834],\n",
       " [511, 658, 833, 366, 427, 299, 474, 833, 834, 834, 834, 834, 834, 834, 834],\n",
       " [583, 197, 312, 515, 448, 732, 833, 834, 834, 834, 834, 834, 834, 834, 834],\n",
       " [751, 803, 511, 20, 251, 128, 239, 619, 248, 833, 834, 834, 834, 834, 834],\n",
       " [609, 834, 834, 834, 834, 834, 834, 834, 834, 834, 834, 834, 834, 834, 834],\n",
       " [751, 423, 511, 647, 74, 110, 17, 415, 576, 478, 833, 834, 834, 834, 834],\n",
       " [50, 760, 323, 210, 732, 504, 833, 834, 834, 834, 834, 834, 834, 834, 834],\n",
       " [751, 423, 511, 658, 606, 776, 329, 364, 331, 833, 834, 834, 834, 834, 834],\n",
       " [627, 183, 456, 145, 657, 266, 805, 58, 550, 833, 834, 834, 834, 834, 834],\n",
       " [751, 803, 264, 663, 677, 745, 303, 278, 71, 234, 646, 368, 833, 834, 834],\n",
       " [264, 663, 677, 745, 303, 278, 71, 234, 646, 368, 833, 834, 834, 834, 834],\n",
       " [542, 553, 538, 359, 337, 507, 511, 833, 834, 834, 834, 834, 834, 834, 834],\n",
       " [609, 834, 834, 834, 834, 834, 834, 834, 834, 834, 834, 834, 834, 834, 834],\n",
       " [550, 522, 53, 829, 723, 135, 833, 834, 834, 834, 834, 834, 834, 834, 834],\n",
       " [338, 75, 145, 674, 485, 170, 833, 834, 834, 834, 834, 834, 834, 834, 834],\n",
       " [263, 403, 360, 17, 808, 518, 576, 15, 202, 377, 833, 834, 834, 834, 834],\n",
       " [256, 140, 643, 220, 488, 401, 115, 36, 833, 834, 834, 834, 834, 834, 834],\n",
       " [609, 834, 834, 834, 834, 834, 834, 834, 834, 834, 834, 834, 834, 834, 834],\n",
       " [755, 721, 711, 179, 48, 528, 113, 448, 773, 833, 834, 834, 834, 834, 834],\n",
       " [833, 511, 577, 498, 144, 488, 770, 833, 834, 834, 834, 834, 834, 834, 834],\n",
       " [234, 809, 417, 524, 75, 514, 305, 234, 809, 576, 833, 834, 834, 834, 834],\n",
       " [751, 222, 511, 406, 415, 574, 803, 354, 102, 234, 809, 673, 833, 834, 834],\n",
       " [751, 423, 511, 187, 340, 751, 550, 514, 577, 402, 781, 833, 834, 834, 834],\n",
       " [606, 738, 62, 514, 511, 506, 833, 834, 834, 834, 834, 834, 834, 834, 834],\n",
       " [514, 312, 511, 508, 144, 185, 193, 635, 415, 833, 834, 834, 834, 834, 834],\n",
       " [114, 642, 327, 578, 405, 833, 834, 834, 834, 834, 834, 834, 834, 834, 834],\n",
       " [511, 724, 621, 234, 809, 645, 315, 833, 834, 834, 834, 834, 834, 834, 834],\n",
       " [751, 803, 606, 495, 574, 632, 354, 412, 134, 550, 712, 306, 833, 834, 834],\n",
       " [609, 834, 834, 834, 834, 834, 834, 834, 834, 834, 834, 834, 834, 834, 834],\n",
       " [609, 834, 834, 834, 834, 834, 834, 834, 834, 834, 834, 834, 834, 834, 834],\n",
       " [269, 606, 476, 168, 355, 784, 511, 480, 135, 331, 833, 834, 834, 834, 834],\n",
       " [751, 803, 758, 320, 634, 826, 550, 608, 507, 732, 787, 833, 834, 834, 834],\n",
       " [609, 834, 834, 834, 834, 834, 834, 834, 834, 834, 834, 834, 834, 834, 834]]"
      ]
     },
     "execution_count": 35,
     "metadata": {},
     "output_type": "execute_result"
    }
   ],
   "source": [
    "# Limit the length of a day's news to 15 words\n",
    "\n",
    "max_headline_length = 15\n",
    "pad_final_headlines = []\n",
    "\n",
    "for headline in int_headlines:\n",
    "    pad_headlines = []\n",
    "    # Add padding if headline is less than max length\n",
    "    if len(headline) <= max_headline_length:\n",
    "        for word in headline:\n",
    "            pad_headlines.append(word)\n",
    "        for i in range(max_headline_length-len(pad_headlines)):\n",
    "            pad = vocab_to_int[\"<PAD>\"]\n",
    "            pad_headlines.append(pad)\n",
    "        pad_final_headlines.append(pad_headlines)\n",
    "    # Limit headline if it is more than max length  \n",
    "    else:\n",
    "        headline = headline[:max_headline_length]\n",
    "        pad_final_headlines.append(headline)\n",
    "pad_final_headlines"
   ]
  },
  {
   "cell_type": "code",
   "execution_count": null,
   "metadata": {},
   "outputs": [],
   "source": [
    "# Find the length of headlines\n",
    "lengths = []\n",
    "for date in pad_final_headlines:\n",
    "    print(date)\n",
    "    print(\"\\n\")\n",
    "    lengths.append(len(date))\n",
    "\n",
    "# Create a dataframe so that the values can be inspected\n",
    "lengths = pd.DataFrame(lengths, columns=['counts'])"
   ]
  },
  {
   "cell_type": "code",
   "execution_count": 37,
   "metadata": {},
   "outputs": [
    {
     "data": {
      "text/html": [
       "<div>\n",
       "<style scoped>\n",
       "    .dataframe tbody tr th:only-of-type {\n",
       "        vertical-align: middle;\n",
       "    }\n",
       "\n",
       "    .dataframe tbody tr th {\n",
       "        vertical-align: top;\n",
       "    }\n",
       "\n",
       "    .dataframe thead th {\n",
       "        text-align: right;\n",
       "    }\n",
       "</style>\n",
       "<table border=\"1\" class=\"dataframe\">\n",
       "  <thead>\n",
       "    <tr style=\"text-align: right;\">\n",
       "      <th></th>\n",
       "      <th>counts</th>\n",
       "    </tr>\n",
       "  </thead>\n",
       "  <tbody>\n",
       "    <tr>\n",
       "      <th>count</th>\n",
       "      <td>251.0</td>\n",
       "    </tr>\n",
       "    <tr>\n",
       "      <th>mean</th>\n",
       "      <td>15.0</td>\n",
       "    </tr>\n",
       "    <tr>\n",
       "      <th>std</th>\n",
       "      <td>0.0</td>\n",
       "    </tr>\n",
       "    <tr>\n",
       "      <th>min</th>\n",
       "      <td>15.0</td>\n",
       "    </tr>\n",
       "    <tr>\n",
       "      <th>25%</th>\n",
       "      <td>15.0</td>\n",
       "    </tr>\n",
       "    <tr>\n",
       "      <th>50%</th>\n",
       "      <td>15.0</td>\n",
       "    </tr>\n",
       "    <tr>\n",
       "      <th>75%</th>\n",
       "      <td>15.0</td>\n",
       "    </tr>\n",
       "    <tr>\n",
       "      <th>max</th>\n",
       "      <td>15.0</td>\n",
       "    </tr>\n",
       "  </tbody>\n",
       "</table>\n",
       "</div>"
      ],
      "text/plain": [
       "       counts\n",
       "count   251.0\n",
       "mean     15.0\n",
       "std       0.0\n",
       "min      15.0\n",
       "25%      15.0\n",
       "50%      15.0\n",
       "75%      15.0\n",
       "max      15.0"
      ]
     },
     "execution_count": 37,
     "metadata": {},
     "output_type": "execute_result"
    }
   ],
   "source": [
    "lengths.describe()"
   ]
  },
  {
   "cell_type": "code",
   "execution_count": 38,
   "metadata": {},
   "outputs": [
    {
     "name": "stderr",
     "output_type": "stream",
     "text": [
      "Using TensorFlow backend.\n"
     ]
    },
    {
     "name": "stdout",
     "output_type": "stream",
     "text": [
      "1.5.1\n",
      "2.2.2\n"
     ]
    }
   ],
   "source": [
    "import tensorflow as tf\n",
    "import keras\n",
    "print(tf.__version__) #1.3.0\n",
    "print(keras.__version__) #2.2.0"
   ]
  },
  {
   "cell_type": "code",
   "execution_count": 39,
   "metadata": {
    "collapsed": true
   },
   "outputs": [],
   "source": [
    "from keras.models import Sequential\n",
    "from keras import initializers\n",
    "from keras.layers import Dropout, Activation, Embedding, Convolution1D, MaxPooling1D, Input, Dense, \\\n",
    "                         BatchNormalization, Flatten, Reshape, Concatenate, Bidirectional\n",
    "from keras.layers.merge import concatenate, add\n",
    "from keras.layers.recurrent import LSTM, GRU\n",
    "from keras.callbacks import Callback, ModelCheckpoint, EarlyStopping, ReduceLROnPlateau\n",
    "from keras.models import Model\n",
    "from keras.optimizers import Adam, SGD, RMSprop\n",
    "from keras import regularizers"
   ]
  },
  {
   "cell_type": "code",
   "execution_count": 40,
   "metadata": {},
   "outputs": [
    {
     "data": {
      "text/html": [
       "<div>\n",
       "<style scoped>\n",
       "    .dataframe tbody tr th:only-of-type {\n",
       "        vertical-align: middle;\n",
       "    }\n",
       "\n",
       "    .dataframe tbody tr th {\n",
       "        vertical-align: top;\n",
       "    }\n",
       "\n",
       "    .dataframe thead th {\n",
       "        text-align: right;\n",
       "    }\n",
       "</style>\n",
       "<table border=\"1\" class=\"dataframe\">\n",
       "  <thead>\n",
       "    <tr style=\"text-align: right;\">\n",
       "      <th></th>\n",
       "      <th>Date</th>\n",
       "      <th>Close</th>\n",
       "      <th>Volume</th>\n",
       "      <th>MA7</th>\n",
       "      <th>MA21</th>\n",
       "      <th>MA42</th>\n",
       "      <th>MACD</th>\n",
       "      <th>EMA</th>\n",
       "      <th>Article_Title</th>\n",
       "    </tr>\n",
       "  </thead>\n",
       "  <tbody>\n",
       "    <tr>\n",
       "      <th>0</th>\n",
       "      <td>2018-01-02</td>\n",
       "      <td>172.259995</td>\n",
       "      <td>25555900.0</td>\n",
       "      <td>171.965714</td>\n",
       "      <td>171.909047</td>\n",
       "      <td>172.157619</td>\n",
       "      <td>0.386977</td>\n",
       "      <td>171.455446</td>\n",
       "      <td>Breakingviews - TV content wars will have gris...</td>\n",
       "    </tr>\n",
       "  </tbody>\n",
       "</table>\n",
       "</div>"
      ],
      "text/plain": [
       "         Date       Close      Volume         MA7        MA21        MA42  \\\n",
       "0  2018-01-02  172.259995  25555900.0  171.965714  171.909047  172.157619   \n",
       "\n",
       "       MACD         EMA                                      Article_Title  \n",
       "0  0.386977  171.455446  Breakingviews - TV content wars will have gris...  "
      ]
     },
     "execution_count": 40,
     "metadata": {},
     "output_type": "execute_result"
    }
   ],
   "source": [
    "merged_data.head(1)"
   ]
  },
  {
   "cell_type": "code",
   "execution_count": 43,
   "metadata": {
    "collapsed": true
   },
   "outputs": [],
   "source": [
    "# 1,6 refers to  the 2nd and 7th column with column indices(1 - OPEN, 6 - VOLUME )\n",
    "training_set = merged_data.iloc[:, [1,2,3,4,5,6,7]].values\n",
    "training_set_close = merged_data.iloc[:, [1]].values"
   ]
  },
  {
   "cell_type": "code",
   "execution_count": 45,
   "metadata": {},
   "outputs": [
    {
     "name": "stdout",
     "output_type": "stream",
     "text": [
      "(251, 7)\n",
      "(251, 1)\n"
     ]
    }
   ],
   "source": [
    "# Feature Scaling\n",
    "from sklearn.preprocessing import MinMaxScaler\n",
    "sc = MinMaxScaler(feature_range = (0, 1))\n",
    "sc_close = MinMaxScaler(feature_range = (0, 1))\n",
    "training_set_scaled = sc.fit_transform(training_set)\n",
    "training_set_close_scaled = sc_close.fit_transform(training_set_close)\n",
    "print(np.shape(training_set_scaled))\n",
    "print(np.shape(training_set_close_scaled))"
   ]
  },
  {
   "cell_type": "code",
   "execution_count": 46,
   "metadata": {},
   "outputs": [
    {
     "data": {
      "text/html": [
       "<div>\n",
       "<style scoped>\n",
       "    .dataframe tbody tr th:only-of-type {\n",
       "        vertical-align: middle;\n",
       "    }\n",
       "\n",
       "    .dataframe tbody tr th {\n",
       "        vertical-align: top;\n",
       "    }\n",
       "\n",
       "    .dataframe thead th {\n",
       "        text-align: right;\n",
       "    }\n",
       "</style>\n",
       "<table border=\"1\" class=\"dataframe\">\n",
       "  <thead>\n",
       "    <tr style=\"text-align: right;\">\n",
       "      <th></th>\n",
       "      <th>0</th>\n",
       "      <th>1</th>\n",
       "      <th>2</th>\n",
       "      <th>3</th>\n",
       "      <th>4</th>\n",
       "      <th>5</th>\n",
       "      <th>6</th>\n",
       "    </tr>\n",
       "  </thead>\n",
       "  <tbody>\n",
       "    <tr>\n",
       "      <th>0</th>\n",
       "      <td>0.298334</td>\n",
       "      <td>0.155757</td>\n",
       "      <td>0.239419</td>\n",
       "      <td>0.107845</td>\n",
       "      <td>0.032594</td>\n",
       "      <td>0.630968</td>\n",
       "      <td>0.274252</td>\n",
       "    </tr>\n",
       "    <tr>\n",
       "      <th>1</th>\n",
       "      <td>0.297982</td>\n",
       "      <td>0.203075</td>\n",
       "      <td>0.233967</td>\n",
       "      <td>0.108817</td>\n",
       "      <td>0.035051</td>\n",
       "      <td>0.630313</td>\n",
       "      <td>0.280563</td>\n",
       "    </tr>\n",
       "  </tbody>\n",
       "</table>\n",
       "</div>"
      ],
      "text/plain": [
       "          0         1         2         3         4         5         6\n",
       "0  0.298334  0.155757  0.239419  0.107845  0.032594  0.630968  0.274252\n",
       "1  0.297982  0.203075  0.233967  0.108817  0.035051  0.630313  0.280563"
      ]
     },
     "execution_count": 46,
     "metadata": {},
     "output_type": "execute_result"
    }
   ],
   "source": [
    "scaled_df = pd.DataFrame(training_set_scaled)\n",
    "scaled_df.head(2)"
   ]
  },
  {
   "cell_type": "code",
   "execution_count": 47,
   "metadata": {
    "collapsed": true
   },
   "outputs": [],
   "source": [
    "# Split data into training and testing sets.\n",
    "# Validating data will be created during training.\n",
    "x_train, x_test, y_train, y_test = train_test_split(pad_final_headlines, scaled_df[[0]], test_size = 0.15, random_state = 2)\n",
    "\n",
    "x_train = np.array(x_train)\n",
    "x_test = np.array(x_test)\n",
    "y_train = np.array(y_train)\n",
    "y_test = np.array(y_test)"
   ]
  },
  {
   "cell_type": "code",
   "execution_count": 55,
   "metadata": {
    "scrolled": true
   },
   "outputs": [
    {
     "data": {
      "text/plain": [
       "(213, 15)"
      ]
     },
     "execution_count": 55,
     "metadata": {},
     "output_type": "execute_result"
    }
   ],
   "source": [
    "x_train.shape"
   ]
  },
  {
   "cell_type": "code",
   "execution_count": 54,
   "metadata": {},
   "outputs": [
    {
     "data": {
      "text/plain": [
       "(38, 15)"
      ]
     },
     "execution_count": 54,
     "metadata": {},
     "output_type": "execute_result"
    }
   ],
   "source": [
    "x_test.shape"
   ]
  },
  {
   "cell_type": "code",
   "execution_count": 56,
   "metadata": {
    "scrolled": true
   },
   "outputs": [
    {
     "data": {
      "text/html": [
       "<div>\n",
       "<style scoped>\n",
       "    .dataframe tbody tr th:only-of-type {\n",
       "        vertical-align: middle;\n",
       "    }\n",
       "\n",
       "    .dataframe tbody tr th {\n",
       "        vertical-align: top;\n",
       "    }\n",
       "\n",
       "    .dataframe thead th {\n",
       "        text-align: right;\n",
       "    }\n",
       "</style>\n",
       "<table border=\"1\" class=\"dataframe\">\n",
       "  <thead>\n",
       "    <tr style=\"text-align: right;\">\n",
       "      <th></th>\n",
       "      <th>Close</th>\n",
       "      <th>Volume</th>\n",
       "      <th>MA7</th>\n",
       "      <th>MA21</th>\n",
       "      <th>MA42</th>\n",
       "      <th>MACD</th>\n",
       "      <th>EMA</th>\n",
       "    </tr>\n",
       "  </thead>\n",
       "  <tbody>\n",
       "    <tr>\n",
       "      <th>0</th>\n",
       "      <td>172.259995</td>\n",
       "      <td>25555900.0</td>\n",
       "      <td>171.965714</td>\n",
       "      <td>171.909047</td>\n",
       "      <td>172.157619</td>\n",
       "      <td>0.386977</td>\n",
       "      <td>171.455446</td>\n",
       "    </tr>\n",
       "  </tbody>\n",
       "</table>\n",
       "</div>"
      ],
      "text/plain": [
       "        Close      Volume         MA7        MA21        MA42      MACD  \\\n",
       "0  172.259995  25555900.0  171.965714  171.909047  172.157619  0.386977   \n",
       "\n",
       "          EMA  \n",
       "0  171.455446  "
      ]
     },
     "execution_count": 56,
     "metadata": {},
     "output_type": "execute_result"
    }
   ],
   "source": [
    "merged_data[['Close', 'Volume', 'MA7', 'MA21', 'MA42', 'MACD', 'EMA']].head(1)"
   ]
  },
  {
   "cell_type": "code",
   "execution_count": 78,
   "metadata": {
    "collapsed": true
   },
   "outputs": [],
   "source": [
    "# Split data into training and testing sets.\n",
    "# Validating data will be created during training.\n",
    "close_train, close_test, closey_train, closey_test = train_test_split(scaled_df[[1,2,3,4,5,6]], scaled_df[[0]], test_size = 0.15, random_state = 2)\n",
    "\n",
    "close_train = np.array(close_train)\n",
    "close_test = np.array(close_test)\n",
    "closey_train = np.array(closey_train)\n",
    "closey_test = np.array(closey_test)"
   ]
  },
  {
   "cell_type": "code",
   "execution_count": 79,
   "metadata": {},
   "outputs": [
    {
     "data": {
      "text/plain": [
       "(38, 6)"
      ]
     },
     "execution_count": 79,
     "metadata": {},
     "output_type": "execute_result"
    }
   ],
   "source": [
    "close_test.shape"
   ]
  },
  {
   "cell_type": "code",
   "execution_count": 81,
   "metadata": {},
   "outputs": [
    {
     "data": {
      "text/plain": [
       "(38, 1)"
      ]
     },
     "execution_count": 81,
     "metadata": {},
     "output_type": "execute_result"
    }
   ],
   "source": [
    "closey_test.shape"
   ]
  },
  {
   "cell_type": "markdown",
   "metadata": {},
   "source": [
    "### MULTI MODAL RECURRENT NEURAL NETWORK FOR COMBINED TEXT AND NUMERICAL INPUTS"
   ]
  },
  {
   "cell_type": "code",
   "execution_count": 62,
   "metadata": {
    "collapsed": true
   },
   "outputs": [],
   "source": [
    "#Multi-Modal Recurrent Neural Network Architecture \n",
    "\n",
    "#Creating an input layer for the textual news headlines \n",
    "nlp_input = Input(shape=(max_headline_length,), name='nlp_input')\n",
    "\n",
    "#Creating an Input layer for the continuous numerical stock data \n",
    "meta_input = Input(shape=(6,), name='meta_input')\n",
    "\n",
    "#Creating an embedding layer to map the headlines to their respective word embedding vectors \n",
    "emb = Embedding(output_dim=embedding_dim, input_dim=nb_words, weights=[word_embedding_matrix], input_length=max_headline_length)(nlp_input)\n",
    "\n",
    "#Using the Embedding layer as an input to the Bidirectional LSTM layer with Close prices as Target \n",
    "news_out = Bidirectional(LSTM(128, dropout=0.3, recurrent_dropout=0.3, kernel_regularizer=regularizers.l2(0.01)))(emb)\n",
    "\n",
    "#Concatenating the output of the Embedding layer with the numerical stock data layer \n",
    "x = concatenate([news_out, meta_input])\n",
    "\n",
    "#Using the combined layer as Input to a Dense Neural Network Layer \n",
    "x = Dense(32, kernel_initializer=\"uniform\",activation='relu')(x)\n",
    "\n",
    "#Feeding it into the Dense output layer with one output \n",
    "x = Dense(units = 1)(x)\n",
    "\n",
    "#Defining the model \n",
    "model = Model(inputs=[nlp_input , meta_input], outputs=[x])"
   ]
  },
  {
   "cell_type": "code",
   "execution_count": 63,
   "metadata": {
    "collapsed": true
   },
   "outputs": [],
   "source": [
    "# Compiling the RNN\n",
    "model.compile(optimizer = 'adam', loss = 'mean_squared_error')"
   ]
  },
  {
   "cell_type": "code",
   "execution_count": 96,
   "metadata": {},
   "outputs": [
    {
     "name": "stdout",
     "output_type": "stream",
     "text": [
      "Epoch 1/10\n",
      "213/213 [==============================] - 1s 3ms/step - loss: 0.0012\n",
      "Epoch 2/10\n",
      "213/213 [==============================] - 1s 3ms/step - loss: 9.2689e-04\n",
      "Epoch 3/10\n",
      "213/213 [==============================] - 1s 3ms/step - loss: 0.0011\n",
      "Epoch 4/10\n",
      "213/213 [==============================] - 1s 3ms/step - loss: 9.9491e-04\n",
      "Epoch 5/10\n",
      "213/213 [==============================] - 1s 3ms/step - loss: 0.0010\n",
      "Epoch 6/10\n",
      "213/213 [==============================] - 1s 2ms/step - loss: 0.0010\n",
      "Epoch 7/10\n",
      "213/213 [==============================] - 1s 3ms/step - loss: 9.2028e-04\n",
      "Epoch 8/10\n",
      "213/213 [==============================] - 1s 3ms/step - loss: 9.8538e-04\n",
      "Epoch 9/10\n",
      "213/213 [==============================] - 1s 2ms/step - loss: 9.2577e-04\n",
      "Epoch 10/10\n",
      "213/213 [==============================] - 1s 3ms/step - loss: 0.0010\n",
      "__________________________________________________________________________________________________\n",
      "Layer (type)                    Output Shape         Param #     Connected to                     \n",
      "==================================================================================================\n",
      "nlp_input (InputLayer)          (None, 15)           0                                            \n",
      "__________________________________________________________________________________________________\n",
      "embedding_1 (Embedding)         (None, 15, 300)      250500      nlp_input[0][0]                  \n",
      "__________________________________________________________________________________________________\n",
      "bidirectional_1 (Bidirectional) (None, 256)          439296      embedding_1[0][0]                \n",
      "__________________________________________________________________________________________________\n",
      "meta_input (InputLayer)         (None, 6)            0                                            \n",
      "__________________________________________________________________________________________________\n",
      "concatenate_1 (Concatenate)     (None, 262)          0           bidirectional_1[0][0]            \n",
      "                                                                 meta_input[0][0]                 \n",
      "__________________________________________________________________________________________________\n",
      "dense_1 (Dense)                 (None, 32)           8416        concatenate_1[0][0]              \n",
      "__________________________________________________________________________________________________\n",
      "dense_2 (Dense)                 (None, 1)            33          dense_1[0][0]                    \n",
      "==================================================================================================\n",
      "Total params: 698,245\n",
      "Trainable params: 698,245\n",
      "Non-trainable params: 0\n",
      "__________________________________________________________________________________________________\n"
     ]
    }
   ],
   "source": [
    "model.fit( [x_train, close_train], y_train, epochs = 10, batch_size = 64)\n",
    "model.summary()"
   ]
  },
  {
   "cell_type": "code",
   "execution_count": 101,
   "metadata": {
    "collapsed": true
   },
   "outputs": [],
   "source": [
    "predicted_stock_price = model.predict([x_test, close_test])"
   ]
  },
  {
   "cell_type": "code",
   "execution_count": 102,
   "metadata": {
    "collapsed": true
   },
   "outputs": [],
   "source": [
    "predicted_stock_price = sc_close.inverse_transform(predicted_stock_price)\n",
    "real_stock_price = sc_close.inverse_transform(closey_test)"
   ]
  },
  {
   "cell_type": "code",
   "execution_count": 103,
   "metadata": {},
   "outputs": [
    {
     "data": {
      "text/html": [
       "<div>\n",
       "<style scoped>\n",
       "    .dataframe tbody tr th:only-of-type {\n",
       "        vertical-align: middle;\n",
       "    }\n",
       "\n",
       "    .dataframe tbody tr th {\n",
       "        vertical-align: top;\n",
       "    }\n",
       "\n",
       "    .dataframe thead th {\n",
       "        text-align: right;\n",
       "    }\n",
       "</style>\n",
       "<table border=\"1\" class=\"dataframe\">\n",
       "  <thead>\n",
       "    <tr style=\"text-align: right;\">\n",
       "      <th></th>\n",
       "      <th>real_stock_price</th>\n",
       "      <th>predicted_stock_price</th>\n",
       "    </tr>\n",
       "  </thead>\n",
       "  <tbody>\n",
       "    <tr>\n",
       "      <th>0</th>\n",
       "      <td>190.039993</td>\n",
       "      <td>185.607117</td>\n",
       "    </tr>\n",
       "    <tr>\n",
       "      <th>1</th>\n",
       "      <td>188.149994</td>\n",
       "      <td>189.079636</td>\n",
       "    </tr>\n",
       "    <tr>\n",
       "      <th>2</th>\n",
       "      <td>188.179993</td>\n",
       "      <td>189.561615</td>\n",
       "    </tr>\n",
       "    <tr>\n",
       "      <th>3</th>\n",
       "      <td>176.779999</td>\n",
       "      <td>182.138123</td>\n",
       "    </tr>\n",
       "    <tr>\n",
       "      <th>4</th>\n",
       "      <td>183.919998</td>\n",
       "      <td>187.783142</td>\n",
       "    </tr>\n",
       "    <tr>\n",
       "      <th>5</th>\n",
       "      <td>166.070007</td>\n",
       "      <td>165.534134</td>\n",
       "    </tr>\n",
       "    <tr>\n",
       "      <th>6</th>\n",
       "      <td>192.229996</td>\n",
       "      <td>197.078186</td>\n",
       "    </tr>\n",
       "    <tr>\n",
       "      <th>7</th>\n",
       "      <td>167.369995</td>\n",
       "      <td>164.645737</td>\n",
       "    </tr>\n",
       "    <tr>\n",
       "      <th>8</th>\n",
       "      <td>172.500000</td>\n",
       "      <td>169.960007</td>\n",
       "    </tr>\n",
       "    <tr>\n",
       "      <th>9</th>\n",
       "      <td>191.610001</td>\n",
       "      <td>194.793564</td>\n",
       "    </tr>\n",
       "    <tr>\n",
       "      <th>10</th>\n",
       "      <td>179.100006</td>\n",
       "      <td>176.577606</td>\n",
       "    </tr>\n",
       "    <tr>\n",
       "      <th>11</th>\n",
       "      <td>228.360001</td>\n",
       "      <td>225.660583</td>\n",
       "    </tr>\n",
       "    <tr>\n",
       "      <th>12</th>\n",
       "      <td>226.410004</td>\n",
       "      <td>223.464737</td>\n",
       "    </tr>\n",
       "    <tr>\n",
       "      <th>13</th>\n",
       "      <td>180.940002</td>\n",
       "      <td>177.063477</td>\n",
       "    </tr>\n",
       "    <tr>\n",
       "      <th>14</th>\n",
       "      <td>190.350006</td>\n",
       "      <td>189.972198</td>\n",
       "    </tr>\n",
       "    <tr>\n",
       "      <th>15</th>\n",
       "      <td>175.000000</td>\n",
       "      <td>174.821991</td>\n",
       "    </tr>\n",
       "    <tr>\n",
       "      <th>16</th>\n",
       "      <td>220.029999</td>\n",
       "      <td>221.181992</td>\n",
       "    </tr>\n",
       "    <tr>\n",
       "      <th>17</th>\n",
       "      <td>221.070007</td>\n",
       "      <td>221.842941</td>\n",
       "    </tr>\n",
       "    <tr>\n",
       "      <th>18</th>\n",
       "      <td>176.979996</td>\n",
       "      <td>184.799835</td>\n",
       "    </tr>\n",
       "    <tr>\n",
       "      <th>19</th>\n",
       "      <td>188.589996</td>\n",
       "      <td>188.651443</td>\n",
       "    </tr>\n",
       "    <tr>\n",
       "      <th>20</th>\n",
       "      <td>176.889999</td>\n",
       "      <td>172.818695</td>\n",
       "    </tr>\n",
       "    <tr>\n",
       "      <th>21</th>\n",
       "      <td>190.910004</td>\n",
       "      <td>191.470856</td>\n",
       "    </tr>\n",
       "    <tr>\n",
       "      <th>22</th>\n",
       "      <td>227.259995</td>\n",
       "      <td>225.205124</td>\n",
       "    </tr>\n",
       "    <tr>\n",
       "      <th>23</th>\n",
       "      <td>163.029999</td>\n",
       "      <td>162.122620</td>\n",
       "    </tr>\n",
       "    <tr>\n",
       "      <th>24</th>\n",
       "      <td>168.490005</td>\n",
       "      <td>174.963974</td>\n",
       "    </tr>\n",
       "    <tr>\n",
       "      <th>25</th>\n",
       "      <td>210.240005</td>\n",
       "      <td>209.112442</td>\n",
       "    </tr>\n",
       "    <tr>\n",
       "      <th>26</th>\n",
       "      <td>171.270004</td>\n",
       "      <td>178.159637</td>\n",
       "    </tr>\n",
       "    <tr>\n",
       "      <th>27</th>\n",
       "      <td>207.529999</td>\n",
       "      <td>208.973831</td>\n",
       "    </tr>\n",
       "    <tr>\n",
       "      <th>28</th>\n",
       "      <td>167.429993</td>\n",
       "      <td>170.974991</td>\n",
       "    </tr>\n",
       "    <tr>\n",
       "      <th>29</th>\n",
       "      <td>187.899994</td>\n",
       "      <td>189.722656</td>\n",
       "    </tr>\n",
       "    <tr>\n",
       "      <th>30</th>\n",
       "      <td>177.000000</td>\n",
       "      <td>178.223480</td>\n",
       "    </tr>\n",
       "    <tr>\n",
       "      <th>31</th>\n",
       "      <td>190.800003</td>\n",
       "      <td>195.210403</td>\n",
       "    </tr>\n",
       "    <tr>\n",
       "      <th>32</th>\n",
       "      <td>176.210007</td>\n",
       "      <td>175.667160</td>\n",
       "    </tr>\n",
       "    <tr>\n",
       "      <th>33</th>\n",
       "      <td>186.800003</td>\n",
       "      <td>194.961853</td>\n",
       "    </tr>\n",
       "    <tr>\n",
       "      <th>34</th>\n",
       "      <td>208.490005</td>\n",
       "      <td>211.075150</td>\n",
       "    </tr>\n",
       "    <tr>\n",
       "      <th>35</th>\n",
       "      <td>188.149994</td>\n",
       "      <td>189.903198</td>\n",
       "    </tr>\n",
       "    <tr>\n",
       "      <th>36</th>\n",
       "      <td>184.820007</td>\n",
       "      <td>176.169891</td>\n",
       "    </tr>\n",
       "    <tr>\n",
       "      <th>37</th>\n",
       "      <td>156.490005</td>\n",
       "      <td>163.200745</td>\n",
       "    </tr>\n",
       "  </tbody>\n",
       "</table>\n",
       "</div>"
      ],
      "text/plain": [
       "    real_stock_price  predicted_stock_price\n",
       "0         190.039993             185.607117\n",
       "1         188.149994             189.079636\n",
       "2         188.179993             189.561615\n",
       "3         176.779999             182.138123\n",
       "4         183.919998             187.783142\n",
       "5         166.070007             165.534134\n",
       "6         192.229996             197.078186\n",
       "7         167.369995             164.645737\n",
       "8         172.500000             169.960007\n",
       "9         191.610001             194.793564\n",
       "10        179.100006             176.577606\n",
       "11        228.360001             225.660583\n",
       "12        226.410004             223.464737\n",
       "13        180.940002             177.063477\n",
       "14        190.350006             189.972198\n",
       "15        175.000000             174.821991\n",
       "16        220.029999             221.181992\n",
       "17        221.070007             221.842941\n",
       "18        176.979996             184.799835\n",
       "19        188.589996             188.651443\n",
       "20        176.889999             172.818695\n",
       "21        190.910004             191.470856\n",
       "22        227.259995             225.205124\n",
       "23        163.029999             162.122620\n",
       "24        168.490005             174.963974\n",
       "25        210.240005             209.112442\n",
       "26        171.270004             178.159637\n",
       "27        207.529999             208.973831\n",
       "28        167.429993             170.974991\n",
       "29        187.899994             189.722656\n",
       "30        177.000000             178.223480\n",
       "31        190.800003             195.210403\n",
       "32        176.210007             175.667160\n",
       "33        186.800003             194.961853\n",
       "34        208.490005             211.075150\n",
       "35        188.149994             189.903198\n",
       "36        184.820007             176.169891\n",
       "37        156.490005             163.200745"
      ]
     },
     "execution_count": 103,
     "metadata": {},
     "output_type": "execute_result"
    }
   ],
   "source": [
    "percentile_list = pd.DataFrame(np.column_stack([real_stock_price, predicted_stock_price]), \n",
    "                               columns=['real_stock_price', 'predicted_stock_price'])\n",
    "percentile_list"
   ]
  },
  {
   "cell_type": "code",
   "execution_count": 104,
   "metadata": {},
   "outputs": [
    {
     "data": {
      "image/png": "[encoded data removed]",
      "text/plain": [
       "<matplotlib.figure.Figure at 0x1488a5b38>"
      ]
     },
     "metadata": {},
     "output_type": "display_data"
    }
   ],
   "source": [
    "# Visualising the results\n",
    "plt.figure(figsize=(14, 5), dpi=100)\n",
    "plt.plot(real_stock_price, color = 'red', label = 'Real Stock Price')\n",
    "plt.plot(predicted_stock_price, color = 'blue', label = 'Predicted Stock Price')\n",
    "plt.title('Stock Price Prediction')\n",
    "plt.xlabel('Time')\n",
    "plt.ylabel('Stock Price')\n",
    "plt.legend()\n",
    "plt.show()"
   ]
  },
  {
   "cell_type": "code",
   "execution_count": 107,
   "metadata": {
    "collapsed": true
   },
   "outputs": [],
   "source": [
    "direction_pred = []\n",
    "for pred in predicted_stock_price:\n",
    "    #print(pred)\n",
    "    if np.around(pred,1) >= np.around(np.mean(real_stock_price),1):\n",
    "        direction_pred.append(1)\n",
    "    else:\n",
    "        direction_pred.append(0)\n",
    "\n",
    "direction_test = []\n",
    "for value in real_stock_price:\n",
    "    #print(value)\n",
    "    if np.around(value, 1) >= np.around(np.mean(real_stock_price), 1):\n",
    "        direction_test.append(1)\n",
    "    else:\n",
    "        direction_test.append(0)"
   ]
  },
  {
   "cell_type": "code",
   "execution_count": 108,
   "metadata": {},
   "outputs": [
    {
     "name": "stdout",
     "output_type": "stream",
     "text": [
      "Predicted Direction [0, 1, 1, 0, 0, 0, 1, 0, 0, 1, 0, 1, 1, 0, 1, 0, 1, 1, 0, 1, 0, 1, 1, 0, 0, 1, 0, 1, 0, 1, 0, 1, 0, 1, 1, 1, 0, 0]\n",
      "Actual Direction [1, 1, 1, 0, 0, 0, 1, 0, 0, 1, 0, 1, 1, 0, 1, 0, 1, 1, 0, 1, 0, 1, 1, 0, 0, 1, 0, 1, 0, 0, 0, 1, 0, 0, 1, 1, 0, 0]\n"
     ]
    }
   ],
   "source": [
    "print(\"Predicted Direction\", direction_pred)\n",
    "print(\"Actual Direction\", direction_test)"
   ]
  },
  {
   "cell_type": "code",
   "execution_count": 110,
   "metadata": {},
   "outputs": [
    {
     "name": "stdout",
     "output_type": "stream",
     "text": [
      "Predicted values matched the actual direction 92.11% of the time.\n"
     ]
    }
   ],
   "source": [
    "direction = acc(direction_test, direction_pred)\n",
    "direction = round(direction,4)*100\n",
    "print(\"Predicted values matched the actual direction {}% of the time.\".format(direction))\n"
   ]
  },
  {
   "cell_type": "code",
   "execution_count": null,
   "metadata": {
    "collapsed": true
   },
   "outputs": [],
   "source": []
  }
 ],
 "metadata": {
  "anaconda-cloud": {},
  "kernelspec": {
   "display_name": "Python 3",
   "language": "python",
   "name": "python3"
  },
  "language_info": {
   "codemirror_mode": {
    "name": "ipython",
    "version": 3
   },
   "file_extension": ".py",
   "mimetype": "text/x-python",
   "name": "python",
   "nbconvert_exporter": "python",
   "pygments_lexer": "ipython3",
   "version": "3.7.3"
  }
 },
 "nbformat": 4,
 "nbformat_minor": 1
}
