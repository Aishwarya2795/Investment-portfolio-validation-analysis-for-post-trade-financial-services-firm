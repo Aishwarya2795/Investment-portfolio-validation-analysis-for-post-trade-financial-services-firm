{
 "cells": [
  {
   "cell_type": "markdown",
   "metadata": {},
   "source": [
    "# FEATURE ENGINEERING ON STOCK MARKET USING GRADIENT BOOSTING\n",
    "\n",
    "Feature Engineering is used to decide the most important factors that affect the stock and make a buy/sell decision. \n",
    "\n",
    "The entire procedure in this notebook consists of the following steps:\n",
    "\n",
    "- Step 1 - Function to derive technical indicators from fundamental indicators that are useful for analysis\n",
    "- Step 2 - Function to preprocess data to a format that suits feature selection using xgb regressor\n",
    "- Step 3 - Function to perform feature engineering and get all features with their importance (weights).<br>    Feature engineering is done using Gradient Boosting.\n",
    "- Step 4 - Function to select best features for use in modeling using results from step 3 \n",
    "- Step 5 - Apple the Step 1-4 to each of the stocks in the portfolio\n",
    "\n",
    "    1. Apple\n",
    "    2. IBM\n",
    "    3. Goldman Sachs\n",
    "    4. Amazon\n",
    "    5. General Electric\n",
    "    6. Google <br>\n",
    "<br>\n",
    "- Step 6 - Results\n",
    "<br>\n",
    "<br>\n",
    "\n",
    "Note - Run this notebook on Python 2.7 "
   ]
  },
  {
   "cell_type": "code",
   "execution_count": 5,
   "metadata": {
    "collapsed": true
   },
   "outputs": [],
   "source": [
    "# Importing the libraries\n",
    "import numpy as np\n",
    "import matplotlib.pyplot as plt\n",
    "import pandas as pd\n",
    "from pandas_datareader import data as web\n",
    "%matplotlib inline \n",
    "import xgboost as xgboost"
   ]
  },
  {
   "cell_type": "markdown",
   "metadata": {},
   "source": [
    "### Step 1 - Function to derive technical indicators from fundamental indicators that are useful for analysis\n",
    "<br>"
   ]
  },
  {
   "cell_type": "code",
   "execution_count": 67,
   "metadata": {
    "collapsed": true
   },
   "outputs": [],
   "source": [
    "def technical_indicators(dataset, rows):\n",
    "     \n",
    "    print(dataset.head())\n",
    "    \n",
    "    #moving avaerage for 7 days\n",
    "    dataset['MA7'] = dataset['Close'].rolling(window=7).mean()\n",
    "    \n",
    "    #moving avaerage for 21 days\n",
    "    dataset['MA21'] = dataset['Close'].rolling(window=21).mean() \n",
    "    \n",
    "    #moving avaerage for 20 days\n",
    "    dataset['MA20'] = dataset['Close'].rolling(window=20).mean() \n",
    "    \n",
    "    #moving avaerage for 60 days\n",
    "    #dataset['MA50'] = dataset['Close'].rolling(window=50).mean()\n",
    "    \n",
    "    #moving avaerage for 60 days\n",
    "    dataset['MA60'] = dataset['Close'].rolling(window=60).mean()\n",
    "    \n",
    "    #moving avaerage for 42 days\n",
    "    dataset['MA42'] = dataset['Close'].rolling(window=42).mean()  \n",
    "    \n",
    "    #moving avaerage for 63 days\n",
    "    dataset['MA63'] = dataset['Close'].rolling(window=63).mean()  \n",
    "    \n",
    "    #moving avaerage for 60 days\n",
    "    #dataset['MA200'] = dataset['Close'].rolling(window=200).mean()\n",
    "    \n",
    "    #Deleting all the rows of year 2012\n",
    "    stock_dataset = dataset.drop(dataset.index[:rows]).copy()\n",
    "    print(\"\\nAfter removing 2012\\n\")\n",
    "    print(stock_dataset.head())\n",
    "    \n",
    "    # Create MACD\n",
    "    \n",
    "    #Moving Average Convergence Divergence (12EMA - 26EMA)\n",
    "    stock_dataset['26EMA'] = pd.ewma(stock_dataset['Close'], span=26)\n",
    "    stock_dataset['12EMA'] = pd.ewma(stock_dataset['Close'], span=12)\n",
    "    stock_dataset['MACD'] = (stock_dataset['12EMA']- stock_dataset['26EMA'])\n",
    "    \n",
    "    #Exponential Moving Average \n",
    "    stock_dataset['EMA'] = stock_dataset['Close'].ewm(com=0.5).mean()\n",
    "    #stock_dataset['1EMA'] = pd.ewma(stock_dataset['Close'], span=1)\n",
    "    stock_dataset.head()\n",
    "    \n",
    "    return stock_dataset"
   ]
  },
  {
   "cell_type": "markdown",
   "metadata": {},
   "source": [
    "### Step 2 - Function to preprocess data to a format that suits feature selection using xgb regressor\n",
    "<br>"
   ]
  },
  {
   "cell_type": "code",
   "execution_count": 68,
   "metadata": {
    "collapsed": true
   },
   "outputs": [],
   "source": [
    "def get_feature_importance_data(data_income):\n",
    "    \n",
    "    data = data_income.copy()\n",
    "    y = data['Close'][1:]\n",
    "    \n",
    "    #All columns from Volume \n",
    "    X = data.iloc[0:-1, 6:]\n",
    "    \n",
    "    train_samples = int(X.shape[0] * 0.75)\n",
    " \n",
    "    X_train = X.iloc[:train_samples]\n",
    "    X_test = X.iloc[train_samples:]\n",
    "\n",
    "    y_train = y.iloc[:train_samples]\n",
    "    y_test = y.iloc[train_samples:]\n",
    "    \n",
    "    return (X_train, y_train), (X_test, y_test)"
   ]
  },
  {
   "cell_type": "markdown",
   "metadata": {},
   "source": [
    "### Step 3 - Function to perform feature engineering and get all features with their importance (weights)\n",
    "<br>"
   ]
  },
  {
   "cell_type": "code",
   "execution_count": 70,
   "metadata": {
    "collapsed": true
   },
   "outputs": [],
   "source": [
    "def perform_feature_selection(X_train_FI, y_train_FI, X_test_FI, y_test_FI,stock_dataset,filename):\n",
    "    \n",
    "    regressor = xgb.XGBRegressor(gamma=0.0,n_estimators=150,base_score=0.7,colsample_bytree=1,learning_rate=0.05)\n",
    "    xgbModel = regressor.fit(X_train_FI,y_train_FI, \\\n",
    "                             eval_set = [(X_train_FI, y_train_FI), (X_test_FI, y_test_FI)], \\\n",
    "                             verbose=False)\n",
    "    fig = plt.figure(figsize=(8,8))\n",
    "    plt.xticks(rotation='vertical')\n",
    "    plt.bar([i for i in range(len(xgbModel.feature_importances_))], xgbModel.feature_importances_.tolist(), tick_label=X_test_FI.columns)\n",
    "    plt.title('Feature importance of the technical indicators.')\n",
    "    plt.show()\n",
    "    \n",
    "    return xgbModel"
   ]
  },
  {
   "cell_type": "code",
   "execution_count": null,
   "metadata": {},
   "outputs": [],
   "source": [
    "def technical_analysis(symbol):\n",
    "    \n",
    "    dataset = pd.read_csv(\"/Users/aishwaryagunashekar/Desktop/Stock_Market_Project/Data/\" + str(symbol) + \"_technical.csv\")\n",
    "    stock_dataset = technical_indicators(dataset, 146)\n",
    "    filename = \"/Users/aishwaryagunashekar/Desktop/Stock_Market_Project/Data/\" + str(symbol) + \"_indicators.csv\"\n",
    "\n",
    "    (X_train_FI, y_train_FI), (X_test_FI, y_test_FI) = get_feature_importance_data(stock_dataset)\n",
    "    xgbModel = perform_feature_selection(X_train_FI, y_train_FI, X_test_FI, y_test_FI,stock_dataset, filename)\n",
    "    \n",
    "    return stock_dataset\n",
    "    "
   ]
  },
  {
   "cell_type": "markdown",
   "metadata": {},
   "source": [
    "### Step 4 - Function to select best features for modeling using results from step 3 \n",
    "<br>"
   ]
  },
  {
   "cell_type": "code",
   "execution_count": null,
   "metadata": {},
   "outputs": [],
   "source": [
    "def select_best_features_for_ML(stock_dataset, symbol, features_to_drop):\n",
    "    \n",
    "    filename = \"/Users/aishwaryagunashekar/Desktop/Stock_Market_Project/Data/\" + str(symbol) + \"_indicators.csv\"\n",
    "    stock_dataset = stock_dataset.drop(features_to_drop, axis=1)\n",
    "    stock_dataset.to_csv(filename ,index=False)\n",
    "    dataset = pd.read_csv(filename)\n",
    "    print(dataset.head())\n",
    "    print(dataset.shape)"
   ]
  },
  {
   "cell_type": "markdown",
   "metadata": {},
   "source": [
    "### Step 5 - Apply the Step 1-4 to each of the stocks in the portfolio"
   ]
  },
  {
   "cell_type": "markdown",
   "metadata": {},
   "source": [
    "\n",
    "### 1. APPLE"
   ]
  },
  {
   "cell_type": "code",
   "execution_count": 71,
   "metadata": {},
   "outputs": [
    {
     "name": "stdout",
     "output_type": "stream",
     "text": [
      "\n",
      "After removing 2012\n",
      "\n",
      "           Date       Open       High        Low      Close  Adj Close  \\\n",
      "146  2013-01-02  79.117142  79.285713  77.375717  78.432854  55.923737   \n",
      "147  2013-01-03  78.268570  78.524284  77.285713  77.442856  55.217865   \n",
      "148  2013-01-04  76.709999  76.947144  75.118568  75.285713  53.679771   \n",
      "149  2013-01-07  74.571426  75.614288  73.599998  74.842857  53.364014   \n",
      "150  2013-01-08  75.601425  75.984283  74.464287  75.044289  53.507637   \n",
      "\n",
      "        Volume        MA7       MA21       MA20       MA60       MA42  \\\n",
      "146  140129500  74.660203  76.123333  75.742428  81.852952  78.372075   \n",
      "147   88241300  75.124897  75.823401  75.501356  81.556047  78.186905   \n",
      "148  148583400  75.264284  75.491088  75.417142  81.257024  78.017517   \n",
      "149  121039100  75.486734  75.389795  75.250428  80.984952  77.810986   \n",
      "150  114676800  75.695917  75.240612  75.193714  80.721762  77.615272   \n",
      "\n",
      "          MA63  \n",
      "146  82.472539  \n",
      "147  82.206576  \n",
      "148  81.902018  \n",
      "149  81.567437  \n",
      "150  81.246598  \n"
     ]
    },
    {
     "data": {
      "image/png": "[encoded data removed]",
      "text/plain": [
       "<matplotlib.figure.Figure at 0x1119d0f90>"
      ]
     },
     "metadata": {},
     "output_type": "display_data"
    }
   ],
   "source": [
    "symbol = 'AAPL'\n",
    "stock_dataset = technical_analysis(symbol)"
   ]
  },
  {
   "cell_type": "code",
   "execution_count": 64,
   "metadata": {},
   "outputs": [
    {
     "name": "stdout",
     "output_type": "stream",
     "text": [
      "         Date      Close     Volume        MA7       MA21       MA60  \\\n",
      "0  2013-01-02  78.432854  140129500  74.660203  76.123333  81.852952   \n",
      "1  2013-01-03  77.442856   88241300  75.124897  75.823401  81.556047   \n",
      "2  2013-01-04  75.285713  148583400  75.264284  75.491088  81.257024   \n",
      "3  2013-01-07  74.842857  121039100  75.486734  75.389795  80.984952   \n",
      "4  2013-01-08  75.044289  114676800  75.695917  75.240612  80.721762   \n",
      "\n",
      "       MACD        EMA  \n",
      "0  0.000000  78.432854  \n",
      "1 -0.022211  77.690356  \n",
      "2 -0.095195  76.025603  \n",
      "3 -0.142045  75.227249  \n",
      "4 -0.156497  75.104772  \n"
     ]
    },
    {
     "data": {
      "text/plain": [
       "(1510, 8)"
      ]
     },
     "execution_count": 64,
     "metadata": {},
     "output_type": "execute_result"
    }
   ],
   "source": [
    "features_to_drop = ['Open', 'High', 'Low', 'Adj Close', 'MA20', 'MA42', 'MA63', '26EMA', '12EMA']\n",
    "select_best_features_for_ML(stock_dataset, symbol, features_to_drop)"
   ]
  },
  {
   "cell_type": "markdown",
   "metadata": {
    "collapsed": true
   },
   "source": [
    "\n",
    "### 2. IBM"
   ]
  },
  {
   "cell_type": "code",
   "execution_count": 54,
   "metadata": {},
   "outputs": [
    {
     "name": "stdout",
     "output_type": "stream",
     "text": [
      "\n",
      "After removing 2012\n",
      "\n",
      "           Date        Open        High         Low       Close   Adj Close  \\\n",
      "146  2013-01-02  194.089996  196.350006  193.800003  196.350006  156.970551   \n",
      "147  2013-01-03  195.669998  196.289993  194.440002  195.270004  156.107132   \n",
      "148  2013-01-04  194.190002  194.460007  192.779999  193.990005  155.083878   \n",
      "149  2013-01-07  193.399994  193.779999  192.339996  193.139999  154.404358   \n",
      "150  2013-01-08  192.919998  193.300003  191.600006  192.869995  154.188507   \n",
      "\n",
      "      Volume         MA7        MA21        MA20        MA60        MA42  \\\n",
      "146  4234100  192.601430  192.382380  192.527499  194.507167  191.609762   \n",
      "147  3644700  192.865716  192.658095  192.823000  194.255167  191.565000   \n",
      "148  3380200  193.092861  192.878571  193.090000  193.978501  191.578334   \n",
      "149  2862300  193.262861  193.092381  193.262000  193.700500  191.554524   \n",
      "150  3026900  193.285716  193.243333  193.308000  193.448500  191.502143   \n",
      "\n",
      "           MA63  \n",
      "146  195.257937  \n",
      "147  195.016667  \n",
      "148  194.765080  \n",
      "149  194.489366  \n",
      "150  194.211270  \n"
     ]
    },
    {
     "data": {
      "image/png": "[encoded data removed]",
      "text/plain": [
       "<matplotlib.figure.Figure at 0x11256d550>"
      ]
     },
     "metadata": {},
     "output_type": "display_data"
    }
   ],
   "source": [
    "symbol = 'IBM'\n",
    "stock_dataset = technical_analysis(symbol)"
   ]
  },
  {
   "cell_type": "code",
   "execution_count": 55,
   "metadata": {},
   "outputs": [
    {
     "name": "stdout",
     "output_type": "stream",
     "text": [
      "         Date       Close   Volume         MA7        MA21        MA42  \\\n",
      "0  2013-01-02  196.350006  4234100  192.601430  192.382380  191.609762   \n",
      "1  2013-01-03  195.270004  3644700  192.865716  192.658095  191.565000   \n",
      "2  2013-01-04  193.990005  3380200  193.092861  192.878571  191.578334   \n",
      "3  2013-01-07  193.139999  2862300  193.262861  193.092381  191.554524   \n",
      "4  2013-01-08  192.869995  3026900  193.285716  193.243333  191.502143   \n",
      "\n",
      "       MACD         EMA  \n",
      "0  0.000000  196.350006  \n",
      "1 -0.024231  195.540005  \n",
      "2 -0.070568  194.466928  \n",
      "3 -0.120602  193.571251  \n",
      "4 -0.155995  193.101815  \n"
     ]
    },
    {
     "data": {
      "text/plain": [
       "(1510, 8)"
      ]
     },
     "execution_count": 55,
     "metadata": {},
     "output_type": "execute_result"
    }
   ],
   "source": [
    "features_to_drop = ['Open', 'High', 'Low', 'Adj Close', 'MA20', 'MA42', 'MA63', '26EMA', '12EMA']\n",
    "select_best_features_for_ML(stock_dataset, symbol, features_to_drop)"
   ]
  },
  {
   "cell_type": "markdown",
   "metadata": {},
   "source": [
    "\n",
    "### 3. GOLDMAN SACHS"
   ]
  },
  {
   "cell_type": "code",
   "execution_count": 75,
   "metadata": {},
   "outputs": [
    {
     "name": "stdout",
     "output_type": "stream",
     "text": [
      "\n",
      "After adding derived attributes\n",
      "\n",
      "           Date        Open        High         Low       Close   Adj Close  \\\n",
      "146  2013-01-02  131.300003  131.660004  129.619995  131.660004  121.429962   \n",
      "147  2013-01-03  131.699997  131.779999  130.070007  130.940002  120.765923   \n",
      "148  2013-01-04  130.929993  134.639999  130.320007  134.509995  124.058540   \n",
      "149  2013-01-07  134.119995  134.509995  132.880005  134.259995  123.827942   \n",
      "150  2013-01-08  133.710007  133.949997  132.699997  133.050003  122.711983   \n",
      "\n",
      "      Volume         MA7        MA21     MA20        MA60        MA42  \\\n",
      "146  4449000  127.792858  122.880000  123.104  121.036833  120.884286   \n",
      "147  4584600  128.150001  123.477143  123.822  121.220833  121.029286   \n",
      "148  5234600  129.145714  124.330952  124.691  121.474167  121.297381   \n",
      "149  3556900  130.159998  125.146666  125.544  121.720833  121.539762   \n",
      "150  2760200  131.071428  125.901428  126.368  121.944500  121.701667   \n",
      "\n",
      "           MA63  \n",
      "146  120.860794  \n",
      "147  121.084286  \n",
      "148  121.358254  \n",
      "149  121.617778  \n",
      "150  121.826508  \n"
     ]
    },
    {
     "data": {
      "image/png": "[encoded data removed]",
      "text/plain": [
       "<matplotlib.figure.Figure at 0x10ca8f890>"
      ]
     },
     "metadata": {},
     "output_type": "display_data"
    }
   ],
   "source": [
    "symbol = 'GS'\n",
    "stock_dataset = technical_analysis(symbol)"
   ]
  },
  {
   "cell_type": "code",
   "execution_count": 76,
   "metadata": {},
   "outputs": [
    {
     "name": "stdout",
     "output_type": "stream",
     "text": [
      "         Date       Close   Volume         MA7        MA21        MA60  \\\n",
      "0  2013-01-02  131.660004  4449000  127.792858  122.880000  121.036833   \n",
      "1  2013-01-03  130.940002  4584600  128.150001  123.477143  121.220833   \n",
      "2  2013-01-04  134.509995  5234600  129.145714  124.330952  121.474167   \n",
      "3  2013-01-07  134.259995  3556900  130.159998  125.146666  121.720833   \n",
      "4  2013-01-08  133.050003  2760200  131.071428  125.901428  121.944500   \n",
      "\n",
      "       MACD         EMA  \n",
      "0  0.000000  131.660004  \n",
      "1 -0.016154  131.120002  \n",
      "2  0.090122  133.466920  \n",
      "3  0.127224  134.002246  \n",
      "4  0.096557  133.364794  \n"
     ]
    },
    {
     "data": {
      "text/plain": [
       "(1510, 8)"
      ]
     },
     "execution_count": 76,
     "metadata": {},
     "output_type": "execute_result"
    }
   ],
   "source": [
    "features_to_drop = ['Open', 'High', 'Low', 'Adj Close', 'MA20', 'MA42', 'MA63', '26EMA', '12EMA']\n",
    "select_best_features_for_ML(stock_dataset, symbol, features_to_drop)"
   ]
  },
  {
   "cell_type": "markdown",
   "metadata": {},
   "source": [
    "\n",
    "### 4. AMAZON"
   ]
  },
  {
   "cell_type": "code",
   "execution_count": 78,
   "metadata": {},
   "outputs": [
    {
     "name": "stdout",
     "output_type": "stream",
     "text": [
      "\n",
      "After removing 2012\n",
      "\n",
      "           Date        Open        High         Low       Close   Adj Close  \\\n",
      "146  2013-01-02  256.079987  258.100006  253.259995  257.309998  257.309998   \n",
      "147  2013-01-03  257.269989  260.880005  256.369995  258.480011  258.480011   \n",
      "148  2013-01-04  257.579987  259.799988  256.649994  259.149994  259.149994   \n",
      "149  2013-01-07  262.970001  269.730011  262.670013  268.459991  268.459991   \n",
      "150  2013-01-08  267.070007  268.980011  263.570007  266.380005  266.380005   \n",
      "\n",
      "      Volume         MA7        MA21        MA20        MA60        MA42  \\\n",
      "146  3271000  252.262857  253.031905  253.167000  243.470001  243.727143   \n",
      "147  2750900  252.485714  253.420000  253.466500  243.436834  244.354286   \n",
      "148  1874200  252.561428  253.737143  253.725999  243.447501  244.990715   \n",
      "149  4910000  255.394283  254.427618  254.480499  243.604167  245.803333   \n",
      "150  3010700  257.975712  255.047142  255.135999  243.861167  246.489524   \n",
      "\n",
      "           MA63  \n",
      "146  243.916350  \n",
      "147  244.019049  \n",
      "148  244.154763  \n",
      "149  244.353810  \n",
      "150  244.447620  \n"
     ]
    },
    {
     "data": {
      "image/png": "[encoded data removed]",
      "text/plain": [
       "<matplotlib.figure.Figure at 0x112631b90>"
      ]
     },
     "metadata": {},
     "output_type": "display_data"
    }
   ],
   "source": [
    "symbol = 'AMZN'\n",
    "stock_dataset = technical_analysis(symbol)"
   ]
  },
  {
   "cell_type": "code",
   "execution_count": 79,
   "metadata": {},
   "outputs": [
    {
     "name": "stdout",
     "output_type": "stream",
     "text": [
      "         Date       Close   Volume         MA7        MA21        MA60  \\\n",
      "0  2013-01-02  257.309998  3271000  252.262857  253.031905  243.470001   \n",
      "1  2013-01-03  258.480011  2750900  252.485714  253.420000  243.436834   \n",
      "2  2013-01-04  259.149994  1874200  252.561428  253.737143  243.447501   \n",
      "3  2013-01-07  268.459991  4910000  255.394283  254.427618  243.604167   \n",
      "4  2013-01-08  266.380005  3010700  257.975712  255.047142  243.861167   \n",
      "\n",
      "       MACD         EMA  \n",
      "0  0.000000  257.309998  \n",
      "1  0.026250  258.187508  \n",
      "2  0.054224  258.853844  \n",
      "3  0.401752  265.337993  \n",
      "4  0.499369  266.035538  \n"
     ]
    },
    {
     "data": {
      "text/plain": [
       "(1510, 8)"
      ]
     },
     "execution_count": 79,
     "metadata": {},
     "output_type": "execute_result"
    }
   ],
   "source": [
    "features_to_drop = ['Open', 'High', 'Low', 'Adj Close', 'MA20', 'MA42', 'MA63', '26EMA', '12EMA']\n",
    "select_best_features_for_ML(stock_dataset, symbol,features_to_drop)"
   ]
  },
  {
   "cell_type": "markdown",
   "metadata": {},
   "source": [
    "\n",
    "### 5. GENERAL ELECTRIC"
   ]
  },
  {
   "cell_type": "code",
   "execution_count": 81,
   "metadata": {},
   "outputs": [
    {
     "name": "stdout",
     "output_type": "stream",
     "text": [
      "\n",
      "After removing 2012\n",
      "\n",
      "           Date       Open       High        Low      Close  Adj Close  \\\n",
      "146  2013-01-02  21.510000  21.540001  21.200001  21.340000  17.340845   \n",
      "147  2013-01-03  21.480000  21.490000  21.049999  21.100000  17.145823   \n",
      "148  2013-01-04  21.209999  21.260000  21.120001  21.200001  17.227083   \n",
      "149  2013-01-07  21.160000  21.219999  20.959999  21.129999  17.170198   \n",
      "150  2013-01-08  21.100000  21.120001  20.680000  20.900000  16.983301   \n",
      "\n",
      "       Volume        MA7       MA21     MA20       MA60       MA42       MA63  \n",
      "146  46089500  20.847143  21.203334  21.2225  21.396500  21.049048  21.465079  \n",
      "147  48509100  20.878572  21.216667  21.2345  21.365667  21.043333  21.437937  \n",
      "148  29802600  20.932858  21.232857  21.2330  21.333667  21.040714  21.412698  \n",
      "149  32746700  20.984286  21.228095  21.2210  21.303833  21.034048  21.384444  \n",
      "150  40045500  21.014286  21.205714  21.1930  21.275167  21.017619  21.351905  \n"
     ]
    },
    {
     "data": {
      "image/png": "[encoded data removed]",
      "text/plain": [
       "<matplotlib.figure.Figure at 0x112afe3d0>"
      ]
     },
     "metadata": {},
     "output_type": "display_data"
    }
   ],
   "source": [
    "symbol = 'GE'\n",
    "stock_dataset = technical_analysis(symbol)"
   ]
  },
  {
   "cell_type": "code",
   "execution_count": 82,
   "metadata": {},
   "outputs": [
    {
     "name": "stdout",
     "output_type": "stream",
     "text": [
      "         Date      Close    Volume        MA7       MA21       MA42      MACD  \\\n",
      "0  2013-01-02  21.340000  46089500  20.847143  21.203334  21.049048  0.000000   \n",
      "1  2013-01-03  21.100000  48509100  20.878572  21.216667  21.043333 -0.005385   \n",
      "2  2013-01-04  21.200001  29802600  20.932858  21.232857  21.040714 -0.003760   \n",
      "3  2013-01-07  21.129999  32746700  20.984286  21.228095  21.034048 -0.005456   \n",
      "4  2013-01-08  20.900000  40045500  21.014286  21.205714  21.017619 -0.015415   \n",
      "\n",
      "         EMA  \n",
      "0  21.340000  \n",
      "1  21.160000  \n",
      "2  21.187693  \n",
      "3  21.148750  \n",
      "4  20.982231  \n"
     ]
    },
    {
     "data": {
      "text/plain": [
       "(1510, 8)"
      ]
     },
     "execution_count": 82,
     "metadata": {},
     "output_type": "execute_result"
    }
   ],
   "source": [
    "features_to_drop = ['Open', 'High', 'Low', 'Adj Close', 'MA20', 'MA42', 'MA63', '26EMA', '12EMA']\n",
    "select_best_features_for_ML(stock_dataset, symbol, features_to_drop)"
   ]
  },
  {
   "cell_type": "markdown",
   "metadata": {},
   "source": [
    "\n",
    "### 6. GOOGLE"
   ]
  },
  {
   "cell_type": "code",
   "execution_count": 84,
   "metadata": {},
   "outputs": [
    {
     "name": "stdout",
     "output_type": "stream",
     "text": [
      "\n",
      "After removing 2012\n",
      "\n",
      "           Date        Open        High         Low       Close   Adj Close  \\\n",
      "146  2013-01-02  357.385559  361.151062  355.959839  359.288177  359.288177   \n",
      "147  2013-01-03  360.122742  363.600128  358.031342  359.496826  359.496826   \n",
      "148  2013-01-04  362.313507  368.339294  361.488861  366.600616  366.600616   \n",
      "149  2013-01-07  365.348755  367.301056  362.929504  365.001007  365.001007   \n",
      "150  2013-01-08  365.393463  365.771027  359.874359  364.280701  364.280701   \n",
      "\n",
      "      Volume         MA7        MA21        MA20        MA60        MA42  \\\n",
      "146  5115500  352.771990  349.848621  350.072121  346.310086  341.370073   \n",
      "147  4666500  353.342564  350.520916  350.882848  345.942642  341.796821   \n",
      "148  5562800  355.362993  351.631313  352.128496  345.696907  342.388804   \n",
      "149  3332900  357.199615  352.741472  353.211948  345.505734  343.001367   \n",
      "150  3373900  359.116433  353.739031  354.431267  345.416398  343.611447   \n",
      "\n",
      "           MA63  \n",
      "146  347.807450  \n",
      "147  347.506944  \n",
      "148  347.356967  \n",
      "149  347.138152  \n",
      "150  346.864141  \n"
     ]
    },
    {
     "data": {
      "image/png": "[encoded data removed]",
      "text/plain": [
       "<matplotlib.figure.Figure at 0x11275fd10>"
      ]
     },
     "metadata": {},
     "output_type": "display_data"
    }
   ],
   "source": [
    "symbol = 'GOOG'\n",
    "stock_dataset = technical_analysis(symbol)"
   ]
  },
  {
   "cell_type": "code",
   "execution_count": 85,
   "metadata": {},
   "outputs": [
    {
     "name": "stdout",
     "output_type": "stream",
     "text": [
      "         Date       Close   Volume         MA7        MA21        MA60  \\\n",
      "0  2013-01-02  359.288177  5115500  352.771990  349.848621  346.310086   \n",
      "1  2013-01-03  359.496826  4666500  353.342564  350.520916  345.942642   \n",
      "2  2013-01-04  366.600616  5562800  355.362993  351.631313  345.696907   \n",
      "3  2013-01-07  365.001007  3332900  357.199615  352.741472  345.505734   \n",
      "4  2013-01-08  364.280701  3373900  359.116433  353.739031  345.416398   \n",
      "\n",
      "         MA42         EMA  \n",
      "0  341.370073  359.288177  \n",
      "1  341.796821  359.444664  \n",
      "2  342.388804  364.398785  \n",
      "3  343.001367  364.805285  \n",
      "4  343.611447  364.454117  \n"
     ]
    },
    {
     "data": {
      "text/plain": [
       "(1510, 8)"
      ]
     },
     "execution_count": 85,
     "metadata": {},
     "output_type": "execute_result"
    }
   ],
   "source": [
    "features_to_drop = ['Open', 'High', 'Low', 'Adj Close', 'MA20', 'MA42', 'MA63', '26EMA', '12EMA']\n",
    "select_best_features_for_ML(stock_dataset, symbol, features_to_drop)"
   ]
  },
  {
   "cell_type": "markdown",
   "metadata": {
    "collapsed": true
   },
   "source": [
    "### Step 6 - Results\n",
    "\n",
    "We have chosen the most impactful features for each of the stocks using <b>Gradient Boosting</b>, filtered out those particular columns from the dataset and stored them for use in predictive modeling. "
   ]
  }
 ],
 "metadata": {
  "anaconda-cloud": {},
  "kernelspec": {
   "display_name": "Python 3",
   "language": "python",
   "name": "python3"
  },
  "language_info": {
   "codemirror_mode": {
    "name": "ipython",
    "version": 3
   },
   "file_extension": ".py",
   "mimetype": "text/x-python",
   "name": "python",
   "nbconvert_exporter": "python",
   "pygments_lexer": "ipython3",
   "version": "3.7.3"
  }
 },
 "nbformat": 4,
 "nbformat_minor": 1
}
